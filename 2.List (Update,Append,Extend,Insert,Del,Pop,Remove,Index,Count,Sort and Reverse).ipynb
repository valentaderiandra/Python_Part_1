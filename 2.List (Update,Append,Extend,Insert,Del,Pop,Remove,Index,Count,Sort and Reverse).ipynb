{
 "cells": [
  {
   "cell_type": "markdown",
   "id": "d91f1346",
   "metadata": {},
   "source": [
    "# Data Types in Python:\n",
    "- List\n",
    "- Slicing\n",
    "- tuples\n",
    "- Set\n",
    "- Dictionary"
   ]
  },
  {
   "cell_type": "markdown",
   "id": "e8562f28",
   "metadata": {},
   "source": [
    "# List"
   ]
  },
  {
   "cell_type": "markdown",
   "id": "ebb8413a",
   "metadata": {},
   "source": [
    "List is a type of ordered sequence data collection and is one of the variables that is often used in Python. Similar, but not the same as arrays in other programming languages. The difference is, List elements in Python do not have to have the same data type. easy with square brackets and comma separated elements."
   ]
  },
  {
   "cell_type": "markdown",
   "id": "29731c15",
   "metadata": {},
   "source": [
    "## List data types do not have to be the same, and lists collect data sequentially. List data types start from index 0"
   ]
  },
  {
   "cell_type": "code",
   "execution_count": 1,
   "id": "7dd01da0",
   "metadata": {},
   "outputs": [],
   "source": [
    "ListVariabel = [10,10.0,\"Ten\"]"
   ]
  },
  {
   "cell_type": "markdown",
   "id": "5afda618",
   "metadata": {},
   "source": [
    "Every data in it can be accessed with an index starting from 0"
   ]
  },
  {
   "cell_type": "code",
   "execution_count": 2,
   "id": "0f74b3d3",
   "metadata": {},
   "outputs": [
    {
     "data": {
      "text/plain": [
       "10"
      ]
     },
     "execution_count": 2,
     "metadata": {},
     "output_type": "execute_result"
    }
   ],
   "source": [
    "ListVariabel[0]"
   ]
  },
  {
   "cell_type": "code",
   "execution_count": 3,
   "id": "d52c9683",
   "metadata": {},
   "outputs": [
    {
     "data": {
      "text/plain": [
       "int"
      ]
     },
     "execution_count": 3,
     "metadata": {},
     "output_type": "execute_result"
    }
   ],
   "source": [
    "type(ListVariabel[0])"
   ]
  },
  {
   "cell_type": "code",
   "execution_count": 4,
   "id": "98928ec8",
   "metadata": {},
   "outputs": [
    {
     "data": {
      "text/plain": [
       "10.0"
      ]
     },
     "execution_count": 4,
     "metadata": {},
     "output_type": "execute_result"
    }
   ],
   "source": [
    "ListVariabel[1]"
   ]
  },
  {
   "cell_type": "code",
   "execution_count": 5,
   "id": "e87dc9b0",
   "metadata": {},
   "outputs": [
    {
     "data": {
      "text/plain": [
       "float"
      ]
     },
     "execution_count": 5,
     "metadata": {},
     "output_type": "execute_result"
    }
   ],
   "source": [
    "type(ListVariabel[1])"
   ]
  },
  {
   "cell_type": "code",
   "execution_count": 6,
   "id": "9dc93bab",
   "metadata": {},
   "outputs": [
    {
     "data": {
      "text/plain": [
       "'Ten'"
      ]
     },
     "execution_count": 6,
     "metadata": {},
     "output_type": "execute_result"
    }
   ],
   "source": [
    "ListVariabel[2]"
   ]
  },
  {
   "cell_type": "code",
   "execution_count": 7,
   "id": "3430ad70",
   "metadata": {},
   "outputs": [
    {
     "data": {
      "text/plain": [
       "str"
      ]
     },
     "execution_count": 7,
     "metadata": {},
     "output_type": "execute_result"
    }
   ],
   "source": [
    "type(ListVariabel[2])"
   ]
  },
  {
   "cell_type": "markdown",
   "id": "79f3a7b5",
   "metadata": {},
   "source": [
    "### Using the sign (-) means searching from behind the list"
   ]
  },
  {
   "cell_type": "code",
   "execution_count": 8,
   "id": "6ef76939",
   "metadata": {},
   "outputs": [
    {
     "data": {
      "text/plain": [
       "'Ten'"
      ]
     },
     "execution_count": 8,
     "metadata": {},
     "output_type": "execute_result"
    }
   ],
   "source": [
    "ListVariabel[-1]"
   ]
  },
  {
   "cell_type": "code",
   "execution_count": 9,
   "id": "baf0bbf7",
   "metadata": {},
   "outputs": [
    {
     "data": {
      "text/plain": [
       "10.0"
      ]
     },
     "execution_count": 9,
     "metadata": {},
     "output_type": "execute_result"
    }
   ],
   "source": [
    "ListVariabel[-2]"
   ]
  },
  {
   "cell_type": "code",
   "execution_count": 10,
   "id": "20824343",
   "metadata": {},
   "outputs": [
    {
     "data": {
      "text/plain": [
       "10"
      ]
     },
     "execution_count": 10,
     "metadata": {},
     "output_type": "execute_result"
    }
   ],
   "source": [
    "ListVariabel[-3]"
   ]
  },
  {
   "cell_type": "markdown",
   "id": "427aa8f3",
   "metadata": {},
   "source": [
    "# Task 1 "
   ]
  },
  {
   "cell_type": "code",
   "execution_count": 11,
   "id": "0df9ce33",
   "metadata": {},
   "outputs": [],
   "source": [
    "Introduction = [\"Valent Aderiandra\",\"Sidoarjo Jawa Timur\",20,\"Sistem Informasi\",\"Universitas Pembangunan Nasional \\\"Veteran\\\" Jawa Timur (UPN Veteran Jawa Timur)\"]"
   ]
  },
  {
   "cell_type": "code",
   "execution_count": 12,
   "id": "cc7675e6",
   "metadata": {},
   "outputs": [
    {
     "data": {
      "text/plain": [
       "str"
      ]
     },
     "execution_count": 12,
     "metadata": {},
     "output_type": "execute_result"
    }
   ],
   "source": [
    "type(Introduction[0])"
   ]
  },
  {
   "cell_type": "code",
   "execution_count": 13,
   "id": "f280d126",
   "metadata": {},
   "outputs": [
    {
     "data": {
      "text/plain": [
       "int"
      ]
     },
     "execution_count": 13,
     "metadata": {},
     "output_type": "execute_result"
    }
   ],
   "source": [
    "type(Introduction[2])"
   ]
  },
  {
   "cell_type": "code",
   "execution_count": 14,
   "id": "1c80bfe4",
   "metadata": {},
   "outputs": [
    {
     "data": {
      "text/plain": [
       "str"
      ]
     },
     "execution_count": 14,
     "metadata": {},
     "output_type": "execute_result"
    }
   ],
   "source": [
    "type(Introduction[-1])"
   ]
  },
  {
   "cell_type": "code",
   "execution_count": 15,
   "id": "447bb453",
   "metadata": {},
   "outputs": [
    {
     "name": "stdout",
     "output_type": "stream",
     "text": [
      "Name        =  Valent Aderiandra\n",
      "Address     =  Sidoarjo Jawa Timur\n",
      "Age         =  20\n",
      "Major       =  Sistem Informasi\n",
      "University  =  Universitas Pembangunan Nasional \"Veteran\" Jawa Timur (UPN Veteran Jawa Timur)\n"
     ]
    }
   ],
   "source": [
    "print(\"Name        = \",Introduction[0]),\n",
    "print(\"Address     = \",Introduction[1]),\n",
    "print(\"Age         = \",Introduction[2]),\n",
    "print(\"Major       = \",Introduction[-2]),\n",
    "print(\"University  = \",Introduction[-1])"
   ]
  },
  {
   "cell_type": "markdown",
   "id": "c0219ee2",
   "metadata": {},
   "source": [
    "# List of 2 and 3 Parameters"
   ]
  },
  {
   "cell_type": "markdown",
   "id": "eba482c1",
   "metadata": {},
   "source": [
    "* a = [5,6.7,'eight']\n",
    "* Using 3 parameters a[x:y:z]\n",
    "* x = starting from what index list, each list starting from 0\n",
    "* y = Number of characters to output\n",
    "* z = Like multiples, if written 2 then each index is a multiple of 2"
   ]
  },
  {
   "cell_type": "code",
   "execution_count": 16,
   "id": "0ec8ee12",
   "metadata": {},
   "outputs": [],
   "source": [
    "a = [5,6.7,'eight']"
   ]
  },
  {
   "cell_type": "code",
   "execution_count": 17,
   "id": "057a1cc4",
   "metadata": {},
   "outputs": [
    {
     "data": {
      "text/plain": [
       "[5, 6.7]"
      ]
     },
     "execution_count": 17,
     "metadata": {},
     "output_type": "execute_result"
    }
   ],
   "source": [
    "a[0:2]"
   ]
  },
  {
   "cell_type": "code",
   "execution_count": 18,
   "id": "b2941528",
   "metadata": {},
   "outputs": [
    {
     "data": {
      "text/plain": [
       "[5]"
      ]
     },
     "execution_count": 18,
     "metadata": {},
     "output_type": "execute_result"
    }
   ],
   "source": [
    "a[0:1]"
   ]
  },
  {
   "cell_type": "code",
   "execution_count": 19,
   "id": "bc2cecf8",
   "metadata": {},
   "outputs": [
    {
     "data": {
      "text/plain": [
       "[5, 6.7, 'eight']"
      ]
     },
     "execution_count": 19,
     "metadata": {},
     "output_type": "execute_result"
    }
   ],
   "source": [
    "a[0:8]"
   ]
  },
  {
   "cell_type": "code",
   "execution_count": 20,
   "id": "407a9d4a",
   "metadata": {},
   "outputs": [
    {
     "data": {
      "text/plain": [
       "[5, 6.7, 'eight']"
      ]
     },
     "execution_count": 20,
     "metadata": {},
     "output_type": "execute_result"
    }
   ],
   "source": [
    "a[:4]"
   ]
  },
  {
   "cell_type": "code",
   "execution_count": 21,
   "id": "05334240",
   "metadata": {},
   "outputs": [
    {
     "data": {
      "text/plain": [
       "['eight']"
      ]
     },
     "execution_count": 21,
     "metadata": {},
     "output_type": "execute_result"
    }
   ],
   "source": [
    "a[-1:]"
   ]
  },
  {
   "cell_type": "code",
   "execution_count": 22,
   "id": "87b06453",
   "metadata": {},
   "outputs": [
    {
     "data": {
      "text/plain": [
       "[5, 6.7, 'eight']"
      ]
     },
     "execution_count": 22,
     "metadata": {},
     "output_type": "execute_result"
    }
   ],
   "source": [
    "a[-3:]"
   ]
  },
  {
   "cell_type": "markdown",
   "id": "cc589d2b",
   "metadata": {},
   "source": [
    "# Task 2"
   ]
  },
  {
   "cell_type": "code",
   "execution_count": 23,
   "id": "60b1e39d",
   "metadata": {},
   "outputs": [],
   "source": [
    "b = [\"Valent Aderiandra\",20,2002,\"valent_aderiandra\",\"Sistem Informasi\",10,9,8,7,6]"
   ]
  },
  {
   "cell_type": "code",
   "execution_count": 24,
   "id": "ce537f88",
   "metadata": {},
   "outputs": [
    {
     "data": {
      "text/plain": [
       "[2002, 'valent_aderiandra', 'Sistem Informasi', 10, 9, 8, 7, 6]"
      ]
     },
     "execution_count": 24,
     "metadata": {},
     "output_type": "execute_result"
    }
   ],
   "source": [
    "b[2:100]"
   ]
  },
  {
   "cell_type": "code",
   "execution_count": 25,
   "id": "bbf7a292",
   "metadata": {},
   "outputs": [
    {
     "data": {
      "text/plain": [
       "[10, 9, 8, 7]"
      ]
     },
     "execution_count": 25,
     "metadata": {},
     "output_type": "execute_result"
    }
   ],
   "source": [
    "b[-5:-1]"
   ]
  },
  {
   "cell_type": "code",
   "execution_count": 26,
   "id": "b0a420d7",
   "metadata": {},
   "outputs": [
    {
     "data": {
      "text/plain": [
       "['Valent Aderiandra', 20, 2002, 'valent_aderiandra', 'Sistem Informasi', 10, 9]"
      ]
     },
     "execution_count": 26,
     "metadata": {},
     "output_type": "execute_result"
    }
   ],
   "source": [
    "b[:-3]"
   ]
  },
  {
   "cell_type": "code",
   "execution_count": 27,
   "id": "b7c45e99",
   "metadata": {},
   "outputs": [
    {
     "data": {
      "text/plain": [
       "['valent_aderiandra', 'Sistem Informasi', 10, 9, 8, 7, 6]"
      ]
     },
     "execution_count": 27,
     "metadata": {},
     "output_type": "execute_result"
    }
   ],
   "source": [
    "b[3:]"
   ]
  },
  {
   "cell_type": "markdown",
   "id": "c112818f",
   "metadata": {},
   "source": [
    "# Task 3"
   ]
  },
  {
   "cell_type": "code",
   "execution_count": 28,
   "id": "be9f1f87",
   "metadata": {},
   "outputs": [],
   "source": [
    "c = [1,2,3,4,5,6,7,8,\"Test\"]"
   ]
  },
  {
   "cell_type": "code",
   "execution_count": 29,
   "id": "bbd7847d",
   "metadata": {},
   "outputs": [
    {
     "data": {
      "text/plain": [
       "[2, 4, 6, 8]"
      ]
     },
     "execution_count": 29,
     "metadata": {},
     "output_type": "execute_result"
    }
   ],
   "source": [
    "c[1:10:2]"
   ]
  },
  {
   "cell_type": "code",
   "execution_count": 30,
   "id": "b246635f",
   "metadata": {},
   "outputs": [
    {
     "data": {
      "text/plain": [
       "[6, 7]"
      ]
     },
     "execution_count": 30,
     "metadata": {},
     "output_type": "execute_result"
    }
   ],
   "source": [
    "c[-4:-2]"
   ]
  },
  {
   "cell_type": "markdown",
   "id": "89f7a465",
   "metadata": {},
   "source": [
    "# Len (Count Number of Characters)"
   ]
  },
  {
   "cell_type": "code",
   "execution_count": 31,
   "id": "1cbf5602",
   "metadata": {},
   "outputs": [],
   "source": [
    "x = [1,2,3,4,5,6,7,8,9,10]"
   ]
  },
  {
   "cell_type": "code",
   "execution_count": 32,
   "id": "1b887dd5",
   "metadata": {},
   "outputs": [
    {
     "data": {
      "text/plain": [
       "10"
      ]
     },
     "execution_count": 32,
     "metadata": {},
     "output_type": "execute_result"
    }
   ],
   "source": [
    "len (x)"
   ]
  },
  {
   "cell_type": "markdown",
   "id": "14b6b3dd",
   "metadata": {},
   "source": [
    "# Change the character at an index position"
   ]
  },
  {
   "cell_type": "code",
   "execution_count": 33,
   "id": "894116af",
   "metadata": {},
   "outputs": [],
   "source": [
    "x = [1,2,3,4,5,6,7,8,9,10,10]"
   ]
  },
  {
   "cell_type": "code",
   "execution_count": 34,
   "id": "3de3db87",
   "metadata": {},
   "outputs": [],
   "source": [
    "x [10] = 11"
   ]
  },
  {
   "cell_type": "code",
   "execution_count": 35,
   "id": "176c95a5",
   "metadata": {},
   "outputs": [
    {
     "name": "stdout",
     "output_type": "stream",
     "text": [
      "[1, 2, 3, 4, 5, 6, 7, 8, 9, 10, 11]\n"
     ]
    }
   ],
   "source": [
    "print (x)"
   ]
  },
  {
   "cell_type": "markdown",
   "id": "aa6c91de",
   "metadata": {},
   "source": [
    "# Multiple Ways to Add Character"
   ]
  },
  {
   "cell_type": "markdown",
   "id": "5e231f8a",
   "metadata": {},
   "source": [
    "### Append (x)"
   ]
  },
  {
   "cell_type": "markdown",
   "id": "5164d13a",
   "metadata": {},
   "source": [
    "#### Adds a single element x to the end of a list"
   ]
  },
  {
   "cell_type": "code",
   "execution_count": 36,
   "id": "8a147688",
   "metadata": {},
   "outputs": [],
   "source": [
    "arr = [1,2,3,4,5,6,7,8,9,10]"
   ]
  },
  {
   "cell_type": "code",
   "execution_count": 37,
   "id": "97b562bb",
   "metadata": {},
   "outputs": [
    {
     "name": "stdout",
     "output_type": "stream",
     "text": [
      "[1, 2, 3, 4, 5, 6, 7, 8, 9, 10]\n"
     ]
    }
   ],
   "source": [
    "print (arr)"
   ]
  },
  {
   "cell_type": "code",
   "execution_count": 38,
   "id": "70486a96",
   "metadata": {},
   "outputs": [],
   "source": [
    "arr.append(11)"
   ]
  },
  {
   "cell_type": "code",
   "execution_count": 39,
   "id": "2099364e",
   "metadata": {},
   "outputs": [
    {
     "name": "stdout",
     "output_type": "stream",
     "text": [
      "[1, 2, 3, 4, 5, 6, 7, 8, 9, 10, 11]\n"
     ]
    }
   ],
   "source": [
    "print (arr)"
   ]
  },
  {
   "cell_type": "code",
   "execution_count": 40,
   "id": "e38c0739",
   "metadata": {},
   "outputs": [
    {
     "data": {
      "text/plain": [
       "11"
      ]
     },
     "execution_count": 40,
     "metadata": {},
     "output_type": "execute_result"
    }
   ],
   "source": [
    "len(arr)"
   ]
  },
  {
   "cell_type": "markdown",
   "id": "286252fe",
   "metadata": {},
   "source": [
    "### Extend (L)"
   ]
  },
  {
   "cell_type": "markdown",
   "id": "0b0f6f25",
   "metadata": {},
   "source": [
    "#### Merge another list L to the End"
   ]
  },
  {
   "cell_type": "code",
   "execution_count": 41,
   "id": "19633fd3",
   "metadata": {},
   "outputs": [],
   "source": [
    "arr = [1,2,3,4,5,6,7,8,9,10]"
   ]
  },
  {
   "cell_type": "code",
   "execution_count": 42,
   "id": "6132d4d1",
   "metadata": {},
   "outputs": [
    {
     "name": "stdout",
     "output_type": "stream",
     "text": [
      "[1, 2, 3, 4, 5, 6, 7, 8, 9, 10]\n"
     ]
    }
   ],
   "source": [
    "print (arr)"
   ]
  },
  {
   "cell_type": "code",
   "execution_count": 43,
   "id": "55ef62ec",
   "metadata": {},
   "outputs": [],
   "source": [
    "arr.extend([11,12])"
   ]
  },
  {
   "cell_type": "code",
   "execution_count": 44,
   "id": "59ac0bc3",
   "metadata": {},
   "outputs": [
    {
     "name": "stdout",
     "output_type": "stream",
     "text": [
      "[1, 2, 3, 4, 5, 6, 7, 8, 9, 10, 11, 12]\n"
     ]
    }
   ],
   "source": [
    "print (arr)"
   ]
  },
  {
   "cell_type": "code",
   "execution_count": 45,
   "id": "fa613039",
   "metadata": {},
   "outputs": [
    {
     "data": {
      "text/plain": [
       "12"
      ]
     },
     "execution_count": 45,
     "metadata": {},
     "output_type": "execute_result"
    }
   ],
   "source": [
    "len(arr)"
   ]
  },
  {
   "cell_type": "markdown",
   "id": "c4c59f37",
   "metadata": {},
   "source": [
    "### Insert"
   ]
  },
  {
   "cell_type": "markdown",
   "id": "b473f877",
   "metadata": {},
   "source": [
    " #### insert element x at position i"
   ]
  },
  {
   "cell_type": "code",
   "execution_count": 46,
   "id": "d010f335",
   "metadata": {},
   "outputs": [],
   "source": [
    "arr = [1,2,3,4,5,6,7,8,9,10]"
   ]
  },
  {
   "cell_type": "code",
   "execution_count": 47,
   "id": "5f59caa0",
   "metadata": {},
   "outputs": [
    {
     "name": "stdout",
     "output_type": "stream",
     "text": [
      "[1, 2, 3, 4, 5, 6, 7, 8, 9, 10]\n"
     ]
    }
   ],
   "source": [
    "print (arr)"
   ]
  },
  {
   "cell_type": "code",
   "execution_count": 48,
   "id": "09ec578a",
   "metadata": {},
   "outputs": [],
   "source": [
    "arr.insert(10,11)"
   ]
  },
  {
   "cell_type": "code",
   "execution_count": 49,
   "id": "5b652e4e",
   "metadata": {},
   "outputs": [
    {
     "name": "stdout",
     "output_type": "stream",
     "text": [
      "[1, 2, 3, 4, 5, 6, 7, 8, 9, 10, 11]\n"
     ]
    }
   ],
   "source": [
    "print (arr)"
   ]
  },
  {
   "cell_type": "markdown",
   "id": "9f50627c",
   "metadata": {},
   "source": [
    "# Multiple Ways to Delete Characters"
   ]
  },
  {
   "cell_type": "markdown",
   "id": "ab9c944c",
   "metadata": {},
   "source": [
    "## Del is used to delete according to index"
   ]
  },
  {
   "cell_type": "code",
   "execution_count": 50,
   "id": "a516fa9e",
   "metadata": {},
   "outputs": [],
   "source": [
    "x = [1,2,3,4,5,6,7,8,9,10]"
   ]
  },
  {
   "cell_type": "code",
   "execution_count": 51,
   "id": "a54b143e",
   "metadata": {},
   "outputs": [],
   "source": [
    "del x[5]"
   ]
  },
  {
   "cell_type": "code",
   "execution_count": 52,
   "id": "29b08143",
   "metadata": {
    "scrolled": true
   },
   "outputs": [
    {
     "name": "stdout",
     "output_type": "stream",
     "text": [
      "[1, 2, 3, 4, 5, 7, 8, 9, 10]\n"
     ]
    }
   ],
   "source": [
    "print (x)"
   ]
  },
  {
   "cell_type": "markdown",
   "id": "0f718779",
   "metadata": {},
   "source": [
    "## Remove "
   ]
  },
  {
   "cell_type": "markdown",
   "id": "92dfea36",
   "metadata": {},
   "source": [
    "### Remove is used to remove the value found from the initial index"
   ]
  },
  {
   "cell_type": "code",
   "execution_count": 53,
   "id": "121b488d",
   "metadata": {},
   "outputs": [],
   "source": [
    "x = [1,2,3,4,5,6,7,8,9,10]"
   ]
  },
  {
   "cell_type": "code",
   "execution_count": 54,
   "id": "8fbe0f61",
   "metadata": {},
   "outputs": [],
   "source": [
    "x.remove(7)"
   ]
  },
  {
   "cell_type": "code",
   "execution_count": 55,
   "id": "2f294a8b",
   "metadata": {},
   "outputs": [
    {
     "name": "stdout",
     "output_type": "stream",
     "text": [
      "[1, 2, 3, 4, 5, 6, 8, 9, 10]\n"
     ]
    }
   ],
   "source": [
    "print (x)"
   ]
  },
  {
   "cell_type": "markdown",
   "id": "b370b80c",
   "metadata": {},
   "source": [
    "## Pop  "
   ]
  },
  {
   "cell_type": "markdown",
   "id": "df9ed9dc",
   "metadata": {},
   "source": [
    "### Pop is used to delete the last index"
   ]
  },
  {
   "cell_type": "code",
   "execution_count": 56,
   "id": "84fe011c",
   "metadata": {},
   "outputs": [],
   "source": [
    "x = [1,2,3,4,5,6,7,8,9,10]"
   ]
  },
  {
   "cell_type": "code",
   "execution_count": 57,
   "id": "a750aeb5",
   "metadata": {},
   "outputs": [
    {
     "data": {
      "text/plain": [
       "10"
      ]
     },
     "execution_count": 57,
     "metadata": {},
     "output_type": "execute_result"
    }
   ],
   "source": [
    "x.pop ()"
   ]
  },
  {
   "cell_type": "code",
   "execution_count": 58,
   "id": "6f68aa2a",
   "metadata": {},
   "outputs": [
    {
     "name": "stdout",
     "output_type": "stream",
     "text": [
      "[1, 2, 3, 4, 5, 6, 7, 8, 9]\n"
     ]
    }
   ],
   "source": [
    "print (x)"
   ]
  },
  {
   "cell_type": "markdown",
   "id": "dcbf64dd",
   "metadata": {},
   "source": [
    "# Index"
   ]
  },
  {
   "cell_type": "markdown",
   "id": "090057f3",
   "metadata": {},
   "source": [
    "### Index is used to find the index to how many characters x"
   ]
  },
  {
   "cell_type": "code",
   "execution_count": 59,
   "id": "96e2e4e5",
   "metadata": {},
   "outputs": [],
   "source": [
    "x = [1,2,3,4,5,6,5,5,5,7,8,9,10,]"
   ]
  },
  {
   "cell_type": "code",
   "execution_count": 60,
   "id": "75397e01",
   "metadata": {},
   "outputs": [
    {
     "data": {
      "text/plain": [
       "4"
      ]
     },
     "execution_count": 60,
     "metadata": {},
     "output_type": "execute_result"
    }
   ],
   "source": [
    "x.index (5)"
   ]
  },
  {
   "cell_type": "markdown",
   "id": "63dd3fd0",
   "metadata": {},
   "source": [
    "It means 5 is in index 4 even though there are many numbers 5 but will be searched from the beginning"
   ]
  },
  {
   "cell_type": "markdown",
   "id": "89d0a8e3",
   "metadata": {},
   "source": [
    "# Count"
   ]
  },
  {
   "cell_type": "markdown",
   "id": "b0e43a59",
   "metadata": {},
   "source": [
    "### Count is used to count the number of x characters in the array"
   ]
  },
  {
   "cell_type": "code",
   "execution_count": 61,
   "id": "ee5024b9",
   "metadata": {},
   "outputs": [],
   "source": [
    "x = [1,2,3,4,5,6,7,8,9,10,1,1,1]"
   ]
  },
  {
   "cell_type": "code",
   "execution_count": 62,
   "id": "424c06ea",
   "metadata": {},
   "outputs": [
    {
     "data": {
      "text/plain": [
       "4"
      ]
     },
     "execution_count": 62,
     "metadata": {},
     "output_type": "execute_result"
    }
   ],
   "source": [
    "x.count (1)"
   ]
  },
  {
   "cell_type": "markdown",
   "id": "3d85e30d",
   "metadata": {},
   "source": [
    "# Sort "
   ]
  },
  {
   "cell_type": "markdown",
   "id": "5c4a1145",
   "metadata": {},
   "source": [
    "## Sort the list"
   ]
  },
  {
   "cell_type": "code",
   "execution_count": 63,
   "id": "2b2ac6c6",
   "metadata": {},
   "outputs": [],
   "source": [
    "x = [10,1,9,2,8,3,7,4,6,5]"
   ]
  },
  {
   "cell_type": "code",
   "execution_count": 64,
   "id": "19196406",
   "metadata": {},
   "outputs": [],
   "source": [
    "x.sort ()"
   ]
  },
  {
   "cell_type": "code",
   "execution_count": 65,
   "id": "51ac1a84",
   "metadata": {},
   "outputs": [
    {
     "name": "stdout",
     "output_type": "stream",
     "text": [
      "[1, 2, 3, 4, 5, 6, 7, 8, 9, 10]\n"
     ]
    }
   ],
   "source": [
    "print (x)"
   ]
  },
  {
   "cell_type": "markdown",
   "id": "11afcd6a",
   "metadata": {},
   "source": [
    "## Sort with Reverse"
   ]
  },
  {
   "cell_type": "code",
   "execution_count": 66,
   "id": "85c53717",
   "metadata": {},
   "outputs": [],
   "source": [
    "x = [10,1,9,2,8,3,7,4,6,5]"
   ]
  },
  {
   "cell_type": "code",
   "execution_count": 67,
   "id": "90a88455",
   "metadata": {},
   "outputs": [],
   "source": [
    "x.sort (reverse=True)"
   ]
  },
  {
   "cell_type": "code",
   "execution_count": 68,
   "id": "7a5c20d7",
   "metadata": {},
   "outputs": [
    {
     "name": "stdout",
     "output_type": "stream",
     "text": [
      "[10, 9, 8, 7, 6, 5, 4, 3, 2, 1]\n"
     ]
    }
   ],
   "source": [
    "print (x)"
   ]
  },
  {
   "cell_type": "markdown",
   "id": "329215e5",
   "metadata": {},
   "source": [
    "# Reverse "
   ]
  },
  {
   "cell_type": "markdown",
   "id": "0479a2e4",
   "metadata": {},
   "source": [
    "## Displays from the last index but not sorted"
   ]
  },
  {
   "cell_type": "code",
   "execution_count": 69,
   "id": "c2e877bd",
   "metadata": {},
   "outputs": [],
   "source": [
    "x = [10,1,9,2,8,3,7,4,6,5]"
   ]
  },
  {
   "cell_type": "code",
   "execution_count": 70,
   "id": "ce5d9c09",
   "metadata": {},
   "outputs": [],
   "source": [
    "x.reverse ()"
   ]
  },
  {
   "cell_type": "code",
   "execution_count": 71,
   "id": "f5ff6074",
   "metadata": {},
   "outputs": [
    {
     "name": "stdout",
     "output_type": "stream",
     "text": [
      "[5, 6, 4, 7, 3, 8, 2, 9, 1, 10]\n"
     ]
    }
   ],
   "source": [
    "print (x)"
   ]
  }
 ],
 "metadata": {
  "kernelspec": {
   "display_name": "Python 3 (ipykernel)",
   "language": "python",
   "name": "python3"
  },
  "language_info": {
   "codemirror_mode": {
    "name": "ipython",
    "version": 3
   },
   "file_extension": ".py",
   "mimetype": "text/x-python",
   "name": "python",
   "nbconvert_exporter": "python",
   "pygments_lexer": "ipython3",
   "version": "3.9.12"
  }
 },
 "nbformat": 4,
 "nbformat_minor": 5
}
