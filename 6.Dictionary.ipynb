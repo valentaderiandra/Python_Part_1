{
 "cells": [
  {
   "cell_type": "markdown",
   "id": "84231324",
   "metadata": {},
   "source": [
    "# Dictionary"
   ]
  },
  {
   "cell_type": "markdown",
   "id": "12d56a49",
   "metadata": {},
   "source": [
    "Dictionary in Python is a collection of key-value pairs (pairs of key-value) that are not sequential. Dictionaries can be used to store small to large data. To access the data, we must know the key (key). In Python, dictionaries are defined with curly braces. and the following additional definitions:"
   ]
  },
  {
   "cell_type": "markdown",
   "id": "6a77f6ce",
   "metadata": {},
   "source": [
    "* Each key-value pair element is separated by a comma(,).\n",
    "* Key and Value are separated by a colon (;).\n",
    "* Key and Value can be any type of variable/object"
   ]
  },
  {
   "cell_type": "code",
   "execution_count": 1,
   "id": "7ada2930",
   "metadata": {},
   "outputs": [],
   "source": [
    "a = {\"Name\" : \"Valent Aderiandra\" , \"Age\" : 20}"
   ]
  },
  {
   "cell_type": "code",
   "execution_count": 2,
   "id": "a193fb43",
   "metadata": {},
   "outputs": [
    {
     "data": {
      "text/plain": [
       "dict"
      ]
     },
     "execution_count": 2,
     "metadata": {},
     "output_type": "execute_result"
    }
   ],
   "source": [
    "type (a)"
   ]
  },
  {
   "cell_type": "code",
   "execution_count": 3,
   "id": "f97f47d6",
   "metadata": {},
   "outputs": [
    {
     "data": {
      "text/plain": [
       "'Valent Aderiandra'"
      ]
     },
     "execution_count": 3,
     "metadata": {},
     "output_type": "execute_result"
    }
   ],
   "source": [
    "a[\"Name\"]"
   ]
  },
  {
   "cell_type": "code",
   "execution_count": 4,
   "id": "aec3594d",
   "metadata": {},
   "outputs": [
    {
     "ename": "KeyError",
     "evalue": "'Valent Aderiandra'",
     "output_type": "error",
     "traceback": [
      "\u001b[1;31m---------------------------------------------------------------------------\u001b[0m",
      "\u001b[1;31mKeyError\u001b[0m                                  Traceback (most recent call last)",
      "Input \u001b[1;32mIn [4]\u001b[0m, in \u001b[0;36m<cell line: 1>\u001b[1;34m()\u001b[0m\n\u001b[1;32m----> 1\u001b[0m \u001b[43ma\u001b[49m\u001b[43m[\u001b[49m\u001b[38;5;124;43m\"\u001b[39;49m\u001b[38;5;124;43mValent Aderiandra\u001b[39;49m\u001b[38;5;124;43m\"\u001b[39;49m\u001b[43m]\u001b[49m\n",
      "\u001b[1;31mKeyError\u001b[0m: 'Valent Aderiandra'"
     ]
    }
   ],
   "source": [
    "a[\"Valent Aderiandra\"]"
   ]
  },
  {
   "cell_type": "code",
   "execution_count": 5,
   "id": "3e0c8da0",
   "metadata": {},
   "outputs": [
    {
     "data": {
      "text/plain": [
       "20"
      ]
     },
     "execution_count": 5,
     "metadata": {},
     "output_type": "execute_result"
    }
   ],
   "source": [
    "a[\"Age\"]"
   ]
  },
  {
   "cell_type": "markdown",
   "id": "f8546cc2",
   "metadata": {},
   "source": [
    "### Dictionary is not included in the Sequences implementation so it cannot be called by index order. For example, in the following example, we tried to try with index 0, but it produces error(KeyError) because there is no key (key) 0"
   ]
  },
  {
   "cell_type": "code",
   "execution_count": 6,
   "id": "84f18b3d",
   "metadata": {},
   "outputs": [
    {
     "ename": "KeyError",
     "evalue": "1",
     "output_type": "error",
     "traceback": [
      "\u001b[1;31m---------------------------------------------------------------------------\u001b[0m",
      "\u001b[1;31mKeyError\u001b[0m                                  Traceback (most recent call last)",
      "Input \u001b[1;32mIn [6]\u001b[0m, in \u001b[0;36m<cell line: 1>\u001b[1;34m()\u001b[0m\n\u001b[1;32m----> 1\u001b[0m \u001b[38;5;28mprint\u001b[39m(\u001b[43ma\u001b[49m\u001b[43m[\u001b[49m\u001b[38;5;241;43m1\u001b[39;49m\u001b[43m]\u001b[49m)\n",
      "\u001b[1;31mKeyError\u001b[0m: 1"
     ]
    }
   ],
   "source": [
    "print(a[1])"
   ]
  },
  {
   "cell_type": "markdown",
   "id": "197f0b49",
   "metadata": {},
   "source": [
    "# Task 1"
   ]
  },
  {
   "cell_type": "code",
   "execution_count": null,
   "id": "b0104bb3",
   "metadata": {},
   "outputs": [],
   "source": [
    "group1 = { 'agung': {'nama':'agung', 'github':'https://github.com/agungwahyuprayogo'},\n",
    "           'valent': {'nama':'valent', 'github':'https://github.com/valentaderiandra'}}\n",
    "print(klmpk1)"
   ]
  },
  {
   "cell_type": "code",
   "execution_count": null,
   "id": "2162f31d",
   "metadata": {},
   "outputs": [],
   "source": [
    "print(group1['valent']['github'])"
   ]
  },
  {
   "cell_type": "code",
   "execution_count": null,
   "id": "1ea34e8d",
   "metadata": {},
   "outputs": [],
   "source": [
    "print(group1['valent'])\n",
    "print(group1['agung'])"
   ]
  }
 ],
 "metadata": {
  "kernelspec": {
   "display_name": "Python 3 (ipykernel)",
   "language": "python",
   "name": "python3"
  },
  "language_info": {
   "codemirror_mode": {
    "name": "ipython",
    "version": 3
   },
   "file_extension": ".py",
   "mimetype": "text/x-python",
   "name": "python",
   "nbconvert_exporter": "python",
   "pygments_lexer": "ipython3",
   "version": "3.9.12"
  }
 },
 "nbformat": 4,
 "nbformat_minor": 5
}
