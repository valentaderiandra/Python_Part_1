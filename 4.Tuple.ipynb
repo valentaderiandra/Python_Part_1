{
 "cells": [
  {
   "cell_type": "markdown",
   "id": "aba87d9f",
   "metadata": {},
   "source": [
    "# Tuple"
   ]
  },
  {
   "cell_type": "markdown",
   "id": "53196e40",
   "metadata": {},
   "source": [
    "### A tuple is a type of list whose elements cannot be changed. Tuples are generally used for write-on data and can be executed faster. Tuples are defined by brackets and elements separated by commas."
   ]
  },
  {
   "cell_type": "code",
   "execution_count": 1,
   "id": "913764b0",
   "metadata": {},
   "outputs": [],
   "source": [
    "a=(2,\"book\",3.5)"
   ]
  },
  {
   "cell_type": "markdown",
   "id": "f05bf622",
   "metadata": {},
   "source": [
    "# Tuple 1 Parameters"
   ]
  },
  {
   "cell_type": "code",
   "execution_count": 2,
   "id": "e8d6de59",
   "metadata": {},
   "outputs": [
    {
     "name": "stdout",
     "output_type": "stream",
     "text": [
      "book\n"
     ]
    }
   ],
   "source": [
    "print(a[1])"
   ]
  },
  {
   "cell_type": "markdown",
   "id": "30dd71f4",
   "metadata": {},
   "source": [
    "# Tuple 2 Parameters"
   ]
  },
  {
   "cell_type": "code",
   "execution_count": 3,
   "id": "882512ab",
   "metadata": {},
   "outputs": [
    {
     "name": "stdout",
     "output_type": "stream",
     "text": [
      "(2, 'book')\n"
     ]
    }
   ],
   "source": [
    "print(a[0:2])"
   ]
  },
  {
   "cell_type": "markdown",
   "id": "9c3fff47",
   "metadata": {},
   "source": [
    "# Tuple 3 Parameters"
   ]
  },
  {
   "cell_type": "code",
   "execution_count": 4,
   "id": "b447be68",
   "metadata": {},
   "outputs": [
    {
     "name": "stdout",
     "output_type": "stream",
     "text": [
      "(2, 3.5)\n"
     ]
    }
   ],
   "source": [
    "print(a[0:3:2])"
   ]
  },
  {
   "cell_type": "markdown",
   "id": "38e9b8aa",
   "metadata": {},
   "source": [
    "# Like lists, we can do slicing, but on tuples we can't make changes:"
   ]
  },
  {
   "cell_type": "code",
   "execution_count": 5,
   "id": "9b90832e",
   "metadata": {},
   "outputs": [
    {
     "ename": "TypeError",
     "evalue": "'tuple' object does not support item assignment",
     "output_type": "error",
     "traceback": [
      "\u001b[1;31m---------------------------------------------------------------------------\u001b[0m",
      "\u001b[1;31mTypeError\u001b[0m                                 Traceback (most recent call last)",
      "Input \u001b[1;32mIn [5]\u001b[0m, in \u001b[0;36m<cell line: 1>\u001b[1;34m()\u001b[0m\n\u001b[1;32m----> 1\u001b[0m a[\u001b[38;5;241m0\u001b[39m] \u001b[38;5;241m=\u001b[39m \u001b[38;5;241m10\u001b[39m\n",
      "\u001b[1;31mTypeError\u001b[0m: 'tuple' object does not support item assignment"
     ]
    }
   ],
   "source": [
    "a[0] = 10"
   ]
  },
  {
   "cell_type": "markdown",
   "id": "f34dce1d",
   "metadata": {},
   "source": [
    "# Task 1"
   ]
  },
  {
   "cell_type": "code",
   "execution_count": 6,
   "id": "2de75a43",
   "metadata": {},
   "outputs": [],
   "source": [
    "valent= [\"Sistem Informasi\",5,20]"
   ]
  },
  {
   "cell_type": "code",
   "execution_count": 7,
   "id": "b61d7931",
   "metadata": {},
   "outputs": [
    {
     "name": "stdout",
     "output_type": "stream",
     "text": [
      "20\n"
     ]
    }
   ],
   "source": [
    "print (valent[-1])\n",
    "\n",
    "#1 parameter"
   ]
  },
  {
   "cell_type": "code",
   "execution_count": 8,
   "id": "5dab9475",
   "metadata": {},
   "outputs": [
    {
     "name": "stdout",
     "output_type": "stream",
     "text": [
      "['Sistem Informasi', 5, 20]\n"
     ]
    }
   ],
   "source": [
    "print (valent[-3:])\n",
    "\n",
    "#2 parameter"
   ]
  },
  {
   "cell_type": "code",
   "execution_count": 9,
   "id": "3e4563a1",
   "metadata": {},
   "outputs": [
    {
     "name": "stdout",
     "output_type": "stream",
     "text": [
      "['Sistem Informasi', 5]\n"
     ]
    }
   ],
   "source": [
    "print (valent[-3:-1])\n",
    "\n",
    "#2 parameter"
   ]
  },
  {
   "cell_type": "code",
   "execution_count": 10,
   "id": "cec9ec6f",
   "metadata": {},
   "outputs": [
    {
     "name": "stdout",
     "output_type": "stream",
     "text": [
      "['Sistem Informasi', 20]\n"
     ]
    }
   ],
   "source": [
    "print (valent[ : :2])\n",
    "\n",
    "#3 parameter"
   ]
  }
 ],
 "metadata": {
  "kernelspec": {
   "display_name": "Python 3 (ipykernel)",
   "language": "python",
   "name": "python3"
  },
  "language_info": {
   "codemirror_mode": {
    "name": "ipython",
    "version": 3
   },
   "file_extension": ".py",
   "mimetype": "text/x-python",
   "name": "python",
   "nbconvert_exporter": "python",
   "pygments_lexer": "ipython3",
   "version": "3.9.12"
  }
 },
 "nbformat": 4,
 "nbformat_minor": 5
}
