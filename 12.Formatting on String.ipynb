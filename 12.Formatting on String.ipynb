{
 "cells": [
  {
   "cell_type": "markdown",
   "id": "b3a1bede",
   "metadata": {},
   "source": [
    "# zfill()\n",
    "* A method that can add a numeric value of 0 to the left of a number or string using the zfill() method\n",
    "* The use of this zfill() method can be applied to invoice numbers or queue numbers.\n",
    "* The number of characters must be less than or equal to the zfill value."
   ]
  },
  {
   "cell_type": "code",
   "execution_count": 4,
   "id": "a6138c29",
   "metadata": {},
   "outputs": [],
   "source": [
    "a = '7'"
   ]
  },
  {
   "cell_type": "code",
   "execution_count": 5,
   "id": "d93b0bb8",
   "metadata": {},
   "outputs": [
    {
     "data": {
      "text/plain": [
       "'00007'"
      ]
     },
     "execution_count": 5,
     "metadata": {},
     "output_type": "execute_result"
    }
   ],
   "source": [
    "a.zfill(5)"
   ]
  },
  {
   "cell_type": "code",
   "execution_count": 6,
   "id": "c13e7ed1",
   "metadata": {},
   "outputs": [],
   "source": [
    "b = \"200\""
   ]
  },
  {
   "cell_type": "code",
   "execution_count": 7,
   "id": "dee63bb7",
   "metadata": {},
   "outputs": [
    {
     "data": {
      "text/plain": [
       "'00200'"
      ]
     },
     "execution_count": 7,
     "metadata": {},
     "output_type": "execute_result"
    }
   ],
   "source": [
    "b.zfill(5)"
   ]
  },
  {
   "cell_type": "code",
   "execution_count": 8,
   "id": "c45c27be",
   "metadata": {},
   "outputs": [],
   "source": [
    "c = -0.25"
   ]
  },
  {
   "cell_type": "code",
   "execution_count": 9,
   "id": "40a58e95",
   "metadata": {},
   "outputs": [
    {
     "data": {
      "text/plain": [
       "'-0.25'"
      ]
     },
     "execution_count": 9,
     "metadata": {},
     "output_type": "execute_result"
    }
   ],
   "source": [
    "str(c).zfill(5)"
   ]
  },
  {
   "cell_type": "code",
   "execution_count": 10,
   "id": "de1a2668",
   "metadata": {},
   "outputs": [],
   "source": [
    "d = -0.25"
   ]
  },
  {
   "cell_type": "code",
   "execution_count": 11,
   "id": "9b16a9e3",
   "metadata": {},
   "outputs": [
    {
     "data": {
      "text/plain": [
       "'-000.25'"
      ]
     },
     "execution_count": 11,
     "metadata": {},
     "output_type": "execute_result"
    }
   ],
   "source": [
    "str(d).zfill(7)"
   ]
  },
  {
   "cell_type": "markdown",
   "id": "2b83365d",
   "metadata": {},
   "source": [
    "Applying zfill to String :"
   ]
  },
  {
   "cell_type": "code",
   "execution_count": 14,
   "id": "a2ece2a6",
   "metadata": {},
   "outputs": [],
   "source": [
    "a = \"she\""
   ]
  },
  {
   "cell_type": "code",
   "execution_count": 15,
   "id": "34bccfd0",
   "metadata": {},
   "outputs": [
    {
     "data": {
      "text/plain": [
       "'000she'"
      ]
     },
     "execution_count": 15,
     "metadata": {},
     "output_type": "execute_result"
    }
   ],
   "source": [
    "a.zfill(6)"
   ]
  },
  {
   "cell_type": "markdown",
   "id": "cfee3e4e",
   "metadata": {},
   "source": [
    "# Task 1"
   ]
  },
  {
   "cell_type": "code",
   "execution_count": 18,
   "id": "99250174",
   "metadata": {},
   "outputs": [],
   "source": [
    "Age = 20\n",
    "GPA = 3.9\n",
    "Name = \"Valent Adriandra\""
   ]
  },
  {
   "cell_type": "code",
   "execution_count": 21,
   "id": "6ff9950a",
   "metadata": {},
   "outputs": [
    {
     "name": "stdout",
     "output_type": "stream",
     "text": [
      "000020\n",
      "0003.9\n",
      "Valent Adriandra\n"
     ]
    }
   ],
   "source": [
    "print(str(Age).zfill(6))\n",
    "print(str(GPA).zfill(6))\n",
    "print(Name.zfill(6))"
   ]
  },
  {
   "cell_type": "markdown",
   "id": "a81fb1d1",
   "metadata": {},
   "source": [
    "# Rjust (Align right)"
   ]
  },
  {
   "cell_type": "code",
   "execution_count": 22,
   "id": "8feaf190",
   "metadata": {},
   "outputs": [
    {
     "data": {
      "text/plain": [
       "'      Data'"
      ]
     },
     "execution_count": 22,
     "metadata": {},
     "output_type": "execute_result"
    }
   ],
   "source": [
    "\"Data\".rjust(10)"
   ]
  },
  {
   "cell_type": "markdown",
   "id": "a570b983",
   "metadata": {},
   "source": [
    "# Ljust (Align left)"
   ]
  },
  {
   "cell_type": "code",
   "execution_count": 23,
   "id": "6dad7746",
   "metadata": {},
   "outputs": [
    {
     "data": {
      "text/plain": [
       "'Data      '"
      ]
     },
     "execution_count": 23,
     "metadata": {},
     "output_type": "execute_result"
    }
   ],
   "source": [
    "\"Data\".ljust(10)"
   ]
  },
  {
   "cell_type": "markdown",
   "id": "5e13c96b",
   "metadata": {},
   "source": [
    "# Center (Align the center)"
   ]
  },
  {
   "cell_type": "code",
   "execution_count": 24,
   "id": "7d6204e1",
   "metadata": {},
   "outputs": [
    {
     "data": {
      "text/plain": [
       "'***Data***'"
      ]
     },
     "execution_count": 24,
     "metadata": {},
     "output_type": "execute_result"
    }
   ],
   "source": [
    "\"Data\".center(10,\"*\")"
   ]
  },
  {
   "cell_type": "code",
   "execution_count": 25,
   "id": "34a65480",
   "metadata": {},
   "outputs": [
    {
     "name": "stdout",
     "output_type": "stream",
     "text": [
      "    My Story of the Day     \n",
      "I was playing gartic. I always pray'a to win the game.                     \n",
      "If you want to play, you can also use the link below                  \n",
      "                                                             gartic.io\n"
     ]
    }
   ],
   "source": [
    "print('My Story of the Day'.center(28))\n",
    "print('I was playing gartic. I always pray\\'a to win the game.'.ljust(75))\n",
    "print('If you want to play, you can also use the link below'.ljust(70))\n",
    "print('gartic.io'.rjust(70))"
   ]
  }
 ],
 "metadata": {
  "kernelspec": {
   "display_name": "Python 3 (ipykernel)",
   "language": "python",
   "name": "python3"
  },
  "language_info": {
   "codemirror_mode": {
    "name": "ipython",
    "version": 3
   },
   "file_extension": ".py",
   "mimetype": "text/x-python",
   "name": "python",
   "nbconvert_exporter": "python",
   "pygments_lexer": "ipython3",
   "version": "3.9.12"
  }
 },
 "nbformat": 4,
 "nbformat_minor": 5
}
