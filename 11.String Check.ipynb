{
 "cells": [
  {
   "cell_type": "markdown",
   "id": "73af6d56",
   "metadata": {},
   "source": [
    "# String Check\n",
    "In the string checking category it will check the boolean of a string."
   ]
  },
  {
   "cell_type": "markdown",
   "id": "267705f6",
   "metadata": {},
   "source": [
    "# isupper()\n",
    "The isupper() method returns True if all letters in the string are uppercase and returns False if there is only one lowercase letter in the string."
   ]
  },
  {
   "cell_type": "code",
   "execution_count": 1,
   "id": "96716501",
   "metadata": {},
   "outputs": [],
   "source": [
    "Name = \"valent aderiandra\""
   ]
  },
  {
   "cell_type": "code",
   "execution_count": 4,
   "id": "cf1f322e",
   "metadata": {},
   "outputs": [
    {
     "data": {
      "text/plain": [
       "False"
      ]
     },
     "execution_count": 4,
     "metadata": {},
     "output_type": "execute_result"
    }
   ],
   "source": [
    "Name.isupper()"
   ]
  },
  {
   "cell_type": "markdown",
   "id": "6e9e33ce",
   "metadata": {},
   "source": [
    "# islowers\n",
    "The islower() method is the opposite of the isupper() method, this method will return True if all letters in the string are lowercase and will return False if there is only one uppercase letter in the string."
   ]
  },
  {
   "cell_type": "code",
   "execution_count": 5,
   "id": "0fc8d92b",
   "metadata": {},
   "outputs": [],
   "source": [
    "Name = \"valent aderiandra\""
   ]
  },
  {
   "cell_type": "code",
   "execution_count": 6,
   "id": "d4a703ca",
   "metadata": {},
   "outputs": [
    {
     "data": {
      "text/plain": [
       "True"
      ]
     },
     "execution_count": 6,
     "metadata": {},
     "output_type": "execute_result"
    }
   ],
   "source": [
    "Name.islower()"
   ]
  },
  {
   "cell_type": "markdown",
   "id": "f7af8d63",
   "metadata": {},
   "source": [
    "We can perform operations on the result of the operation (chain of methods)"
   ]
  },
  {
   "cell_type": "code",
   "execution_count": 7,
   "id": "10059ae4",
   "metadata": {},
   "outputs": [],
   "source": [
    "Name = \"valent aderiandra\""
   ]
  },
  {
   "cell_type": "code",
   "execution_count": 8,
   "id": "6962c3c3",
   "metadata": {},
   "outputs": [
    {
     "data": {
      "text/plain": [
       "False"
      ]
     },
     "execution_count": 8,
     "metadata": {},
     "output_type": "execute_result"
    }
   ],
   "source": [
    "Name.upper().lower().isupper()"
   ]
  },
  {
   "cell_type": "code",
   "execution_count": 9,
   "id": "87013efd",
   "metadata": {},
   "outputs": [
    {
     "data": {
      "text/plain": [
       "True"
      ]
     },
     "execution_count": 9,
     "metadata": {},
     "output_type": "execute_result"
    }
   ],
   "source": [
    "Name.lower().upper().isupper()"
   ]
  },
  {
   "cell_type": "markdown",
   "id": "3b34fa18",
   "metadata": {},
   "source": [
    "# Isalpha () "
   ]
  },
  {
   "cell_type": "markdown",
   "id": "ccd4f6c4",
   "metadata": {},
   "source": [
    "This method will return True if all characters in the string are letters of the alphabet, if there are numeric or spaces it will return False."
   ]
  },
  {
   "cell_type": "code",
   "execution_count": 10,
   "id": "2ca7229a",
   "metadata": {},
   "outputs": [
    {
     "name": "stdout",
     "output_type": "stream",
     "text": [
      "True\n"
     ]
    }
   ],
   "source": [
    "print (\"data\".isalpha())"
   ]
  },
  {
   "cell_type": "markdown",
   "id": "76a1abbc",
   "metadata": {},
   "source": [
    "# Isalnum ()"
   ]
  },
  {
   "cell_type": "markdown",
   "id": "668a0ba3",
   "metadata": {},
   "source": [
    "This method will return True if all characters in the string are alphabetic or numeric, if there are spaces it will return False."
   ]
  },
  {
   "cell_type": "code",
   "execution_count": 11,
   "id": "f0ec872c",
   "metadata": {},
   "outputs": [
    {
     "name": "stdout",
     "output_type": "stream",
     "text": [
      "True\n"
     ]
    }
   ],
   "source": [
    "print (\"data2022\".isalnum())"
   ]
  },
  {
   "cell_type": "code",
   "execution_count": 12,
   "id": "21be5bb2",
   "metadata": {},
   "outputs": [
    {
     "name": "stdout",
     "output_type": "stream",
     "text": [
      "False\n"
     ]
    }
   ],
   "source": [
    "print (\"data 2022\".isalnum())"
   ]
  },
  {
   "cell_type": "markdown",
   "id": "46605a77",
   "metadata": {},
   "source": [
    "# Isdecimal ()"
   ]
  },
  {
   "cell_type": "markdown",
   "id": "e432e0bb",
   "metadata": {},
   "source": [
    "This method will return True if all characters in the string are numeric, if there are spaces or alphabet letters it will return False."
   ]
  },
  {
   "cell_type": "code",
   "execution_count": 13,
   "id": "a348733c",
   "metadata": {},
   "outputs": [
    {
     "name": "stdout",
     "output_type": "stream",
     "text": [
      "True\n"
     ]
    }
   ],
   "source": [
    "print (\"2022\".isdecimal())"
   ]
  },
  {
   "cell_type": "markdown",
   "id": "f3b77118",
   "metadata": {},
   "source": [
    "# Isspace ()"
   ]
  },
  {
   "cell_type": "markdown",
   "id": "cf3353b6",
   "metadata": {},
   "source": [
    "This method will return True if the string contains only whitespace characters, such as spaces, tabs, newlines or other whitespace characters. Otherwise, it will return False."
   ]
  },
  {
   "cell_type": "code",
   "execution_count": 14,
   "id": "91f8593f",
   "metadata": {},
   "outputs": [
    {
     "name": "stdout",
     "output_type": "stream",
     "text": [
      "True\n"
     ]
    }
   ],
   "source": [
    "print (\" \".isspace())"
   ]
  },
  {
   "cell_type": "markdown",
   "id": "b07b8d6d",
   "metadata": {},
   "source": [
    "# Istitle ()"
   ]
  },
  {
   "cell_type": "markdown",
   "id": "59dd7a2f",
   "metadata": {},
   "source": [
    "This method will return True if the string contains a capital letter in each word and continues with lowercase letters and so on, otherwise it will return a value of False."
   ]
  },
  {
   "cell_type": "code",
   "execution_count": 15,
   "id": "5cca1863",
   "metadata": {},
   "outputs": [
    {
     "name": "stdout",
     "output_type": "stream",
     "text": [
      "True\n"
     ]
    }
   ],
   "source": [
    "print (\"Data Science\".istitle())"
   ]
  },
  {
   "cell_type": "code",
   "execution_count": 17,
   "id": "3246ccd8",
   "metadata": {},
   "outputs": [
    {
     "name": "stdout",
     "output_type": "stream",
     "text": [
      "Enter your first name:\n",
      "Valent \n",
      "Enter your last name:\n",
      "Aderiandra\n",
      "Enter your name correctly.\n",
      "Enter your first name:\n",
      "Valent\n",
      "Enter your last name:\n",
      "aderiandra\n",
      "Hello Valent aderiandra\n"
     ]
    }
   ],
   "source": [
    "while True:\n",
    "     print('Enter your first name:')\n",
    "     firstname = input()\n",
    "     print(\"Enter your last name:\")\n",
    "     lastname = input()\n",
    "     if firstname.isalpha():\n",
    "         print(\"Hello\", firstname, lastname)\n",
    "         break\n",
    "     print('Enter your name correctly.')"
   ]
  },
  {
   "cell_type": "markdown",
   "id": "7cfc1419",
   "metadata": {},
   "source": [
    "# Task 2"
   ]
  },
  {
   "cell_type": "code",
   "execution_count": 22,
   "id": "3d44bbf8",
   "metadata": {},
   "outputs": [
    {
     "name": "stdout",
     "output_type": "stream",
     "text": [
      "Enter your first name:\n",
      "Valent\n",
      "Enter your last name:\n",
      "aderiandra\n",
      "Hello Valent aderiandra\n",
      "Enter your username:\n",
      "valentaderiandra\n",
      "Hello valentaderiandra\n",
      "Enter your phone number:\n",
      "081230254768\n",
      "Hello, is this your phone number?  081230254768\n"
     ]
    }
   ],
   "source": [
    "while True:\n",
    "     print('Enter your first name:')\n",
    "     firstname = input()\n",
    "     print(\"Enter your last name:\")\n",
    "     lastname = input()\n",
    "     if firstname.isalpha():\n",
    "         print(\"Hello\", firstname, lastname)\n",
    "         break\n",
    "     print('Enter your first name 1 word without spaces.')\n",
    "\n",
    "while True:\n",
    "     print('Enter your username:')\n",
    "     user = input()\n",
    "     if user.isalnum():\n",
    "         print(\"Hello\", user)\n",
    "         break\n",
    "     print('Enter your username correctly.')\n",
    "    \n",
    "while True:\n",
    "     print('Enter your phone number:')\n",
    "     phonenumber = input()\n",
    "     if phonenumber.isdecimal():\n",
    "         print(\"Hello, is this your phone number \",phonenumber)\n",
    "         break\n",
    "     print('Enter the phone number as numbers only, without spaces and alphabets.')"
   ]
  }
 ],
 "metadata": {
  "kernelspec": {
   "display_name": "Python 3 (ipykernel)",
   "language": "python",
   "name": "python3"
  },
  "language_info": {
   "codemirror_mode": {
    "name": "ipython",
    "version": 3
   },
   "file_extension": ".py",
   "mimetype": "text/x-python",
   "name": "python",
   "nbconvert_exporter": "python",
   "pygments_lexer": "ipython3",
   "version": "3.9.12"
  }
 },
 "nbformat": 4,
 "nbformat_minor": 5
}
