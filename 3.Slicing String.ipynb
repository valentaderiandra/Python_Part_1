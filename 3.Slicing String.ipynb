{
 "cells": [
  {
   "cell_type": "markdown",
   "id": "02866527",
   "metadata": {},
   "source": [
    "# Slicing on String"
   ]
  },
  {
   "cell_type": "markdown",
   "id": "2f23b684",
   "metadata": {},
   "source": [
    "Because strings are similar to lists, the slicing operator [] can also be used on strings to retrieve their contents or even substrings. A complete string is mutable (can be changed), but its elements are immutable (cannot be changed)."
   ]
  },
  {
   "cell_type": "code",
   "execution_count": 14,
   "id": "722befef",
   "metadata": {},
   "outputs": [],
   "source": [
    "a = \"Data Science\""
   ]
  },
  {
   "cell_type": "code",
   "execution_count": 15,
   "id": "920b28ab",
   "metadata": {},
   "outputs": [
    {
     "name": "stdout",
     "output_type": "stream",
     "text": [
      "t\n"
     ]
    }
   ],
   "source": [
    "print(a[2])\n",
    "\n",
    "#Retrieve the third character from the string a"
   ]
  },
  {
   "cell_type": "code",
   "execution_count": 16,
   "id": "03f1dc87",
   "metadata": {},
   "outputs": [
    {
     "name": "stdout",
     "output_type": "stream",
     "text": [
      "Science\n"
     ]
    }
   ],
   "source": [
    "print(a[5:12])\n",
    "\n",
    "#Retrieve the sixth through twelfth characters of the string a"
   ]
  },
  {
   "cell_type": "code",
   "execution_count": 17,
   "id": "01ce7c9e",
   "metadata": {},
   "outputs": [
    {
     "name": "stdout",
     "output_type": "stream",
     "text": [
      "aaSi\n"
     ]
    }
   ],
   "source": [
    "print(a[1:8:2])\n",
    "\n",
    "#Retrieve characters from index 1 to index 8 with a jump of 2 characters"
   ]
  },
  {
   "cell_type": "code",
   "execution_count": 18,
   "id": "319d59e7",
   "metadata": {
    "scrolled": true
   },
   "outputs": [
    {
     "ename": "TypeError",
     "evalue": "'str' object does not support item assignment",
     "output_type": "error",
     "traceback": [
      "\u001b[1;31m---------------------------------------------------------------------------\u001b[0m",
      "\u001b[1;31mTypeError\u001b[0m                                 Traceback (most recent call last)",
      "Input \u001b[1;32mIn [18]\u001b[0m, in \u001b[0;36m<cell line: 1>\u001b[1;34m()\u001b[0m\n\u001b[1;32m----> 1\u001b[0m a[\u001b[38;5;241m3\u001b[39m]\u001b[38;5;241m=\u001b[39m\u001b[38;5;124m\"\u001b[39m\u001b[38;5;124mo\u001b[39m\u001b[38;5;124m\"\u001b[39m\n",
      "\u001b[1;31mTypeError\u001b[0m: 'str' object does not support item assignment"
     ]
    }
   ],
   "source": [
    "a[3]=\"o\"\n",
    "\n",
    "# Change the fourth character of the string a to 'o', it should fail because it is immutable"
   ]
  },
  {
   "cell_type": "code",
   "execution_count": 19,
   "id": "469dc249",
   "metadata": {},
   "outputs": [
    {
     "name": "stdout",
     "output_type": "stream",
     "text": [
      "Data Science\n"
     ]
    }
   ],
   "source": [
    "print (a)"
   ]
  },
  {
   "cell_type": "code",
   "execution_count": 20,
   "id": "b7ebdb9f",
   "metadata": {},
   "outputs": [],
   "source": [
    "a = \"Data Engineer\""
   ]
  },
  {
   "cell_type": "code",
   "execution_count": 21,
   "id": "2c416c74",
   "metadata": {},
   "outputs": [
    {
     "name": "stdout",
     "output_type": "stream",
     "text": [
      "Data Engineer\n"
     ]
    }
   ],
   "source": [
    "print (a)\n",
    "# Change the contents of string a to \"Data Engineer\", it should work because it is mutable"
   ]
  }
 ],
 "metadata": {
  "kernelspec": {
   "display_name": "Python 3 (ipykernel)",
   "language": "python",
   "name": "python3"
  },
  "language_info": {
   "codemirror_mode": {
    "name": "ipython",
    "version": 3
   },
   "file_extension": ".py",
   "mimetype": "text/x-python",
   "name": "python",
   "nbconvert_exporter": "python",
   "pygments_lexer": "ipython3",
   "version": "3.9.12"
  }
 },
 "nbformat": 4,
 "nbformat_minor": 5
}
