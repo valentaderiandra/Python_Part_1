{
 "cells": [
  {
   "cell_type": "markdown",
   "id": "699286d7",
   "metadata": {},
   "source": [
    "### The difference between Integer and Float is the point (decimal points)"
   ]
  },
  {
   "cell_type": "markdown",
   "id": "4086c15b",
   "metadata": {},
   "source": [
    "Built-in data types in Python 3:\n",
    "1. Numbers\n",
    "2. Strings\n",
    "3. Boolean"
   ]
  },
  {
   "cell_type": "markdown",
   "id": "ea5c827e",
   "metadata": {},
   "source": [
    "# 1.Numbers "
   ]
  },
  {
   "cell_type": "markdown",
   "id": "8bb9470c",
   "metadata": {},
   "source": [
    "Numbers Numeric types in Python are divided into 3: int, float, complex."
   ]
  },
  {
   "cell_type": "code",
   "execution_count": 1,
   "id": "bcae49ed",
   "metadata": {},
   "outputs": [],
   "source": [
    "a = 1"
   ]
  },
  {
   "cell_type": "code",
   "execution_count": 2,
   "id": "9024a056",
   "metadata": {},
   "outputs": [
    {
     "data": {
      "text/plain": [
       "int"
      ]
     },
     "execution_count": 2,
     "metadata": {},
     "output_type": "execute_result"
    }
   ],
   "source": [
    "type (a)"
   ]
  },
  {
   "cell_type": "code",
   "execution_count": 3,
   "id": "ee538b15",
   "metadata": {},
   "outputs": [],
   "source": [
    "b = 1.0"
   ]
  },
  {
   "cell_type": "code",
   "execution_count": 4,
   "id": "620bda88",
   "metadata": {},
   "outputs": [
    {
     "data": {
      "text/plain": [
       "float"
      ]
     },
     "execution_count": 4,
     "metadata": {},
     "output_type": "execute_result"
    }
   ],
   "source": [
    "type(b)"
   ]
  },
  {
   "cell_type": "markdown",
   "id": "910a9264",
   "metadata": {},
   "source": [
    "The difference between an integer and a float is a dot (decimal points)."
   ]
  },
  {
   "cell_type": "markdown",
   "id": "fddb20b6",
   "metadata": {},
   "source": [
    "# 2.Complex numbers are used for imaginary numbers and must use the variable j"
   ]
  },
  {
   "cell_type": "markdown",
   "id": "f3c25a1e",
   "metadata": {},
   "source": [
    "Because Python is also widely used by mathematicians, the number type in Python also supports imaginary numbers and complex numbers. Complex number values are written in the formulation x+yj, ie the x part is a real number and y is an imaginary number. An example is as follows:"
   ]
  },
  {
   "cell_type": "code",
   "execution_count": 5,
   "id": "1e3229d8",
   "metadata": {},
   "outputs": [],
   "source": [
    "c = 1+2j"
   ]
  },
  {
   "cell_type": "code",
   "execution_count": 6,
   "id": "8dd92401",
   "metadata": {},
   "outputs": [
    {
     "data": {
      "text/plain": [
       "complex"
      ]
     },
     "execution_count": 6,
     "metadata": {},
     "output_type": "execute_result"
    }
   ],
   "source": [
    "type(c)"
   ]
  },
  {
   "cell_type": "code",
   "execution_count": 7,
   "id": "a35458b6",
   "metadata": {},
   "outputs": [],
   "source": [
    "IniINT = 8"
   ]
  },
  {
   "cell_type": "code",
   "execution_count": 8,
   "id": "bb07ecca",
   "metadata": {},
   "outputs": [
    {
     "data": {
      "text/plain": [
       "int"
      ]
     },
     "execution_count": 8,
     "metadata": {},
     "output_type": "execute_result"
    }
   ],
   "source": [
    "type(IniINT)"
   ]
  },
  {
   "cell_type": "code",
   "execution_count": 9,
   "id": "dc045476",
   "metadata": {},
   "outputs": [],
   "source": [
    "IniFloat = 8.50"
   ]
  },
  {
   "cell_type": "code",
   "execution_count": 10,
   "id": "cab4f293",
   "metadata": {},
   "outputs": [
    {
     "data": {
      "text/plain": [
       "float"
      ]
     },
     "execution_count": 10,
     "metadata": {},
     "output_type": "execute_result"
    }
   ],
   "source": [
    "type(IniFloat)"
   ]
  },
  {
   "cell_type": "code",
   "execution_count": 11,
   "id": "993692ed",
   "metadata": {},
   "outputs": [],
   "source": [
    "IniComplex = 2+2j"
   ]
  },
  {
   "cell_type": "code",
   "execution_count": 12,
   "id": "29ac625e",
   "metadata": {},
   "outputs": [
    {
     "data": {
      "text/plain": [
       "complex"
      ]
     },
     "execution_count": 12,
     "metadata": {},
     "output_type": "execute_result"
    }
   ],
   "source": [
    "type(IniComplex)"
   ]
  },
  {
   "cell_type": "markdown",
   "id": "3f5b6e71",
   "metadata": {},
   "source": [
    "# 3.String"
   ]
  },
  {
   "cell_type": "markdown",
   "id": "e2a6acd4",
   "metadata": {},
   "source": [
    "A string is a sequence of unicode characters declared in single or double quotes. Strings > 1 line can be marked with either triples or double quotes (\"\" or \"\"\")"
   ]
  },
  {
   "cell_type": "code",
   "execution_count": 13,
   "id": "2362f5ca",
   "metadata": {},
   "outputs": [],
   "source": [
    "IniString = \"Bootcamp Data Scientist \\n Valent Aderiandra\""
   ]
  },
  {
   "cell_type": "code",
   "execution_count": 14,
   "id": "cf44ed5a",
   "metadata": {},
   "outputs": [
    {
     "name": "stdout",
     "output_type": "stream",
     "text": [
      "Bootcamp Data Scientist \n",
      " Valent Aderiandra\n"
     ]
    }
   ],
   "source": [
    "print(IniString)"
   ]
  },
  {
   "cell_type": "code",
   "execution_count": 15,
   "id": "2e6549ec",
   "metadata": {},
   "outputs": [
    {
     "data": {
      "text/plain": [
       "str"
      ]
     },
     "execution_count": 15,
     "metadata": {},
     "output_type": "execute_result"
    }
   ],
   "source": [
    "type(IniString)"
   ]
  },
  {
   "cell_type": "markdown",
   "id": "d5c5d54e",
   "metadata": {},
   "source": [
    "### How to write I'm escape character"
   ]
  },
  {
   "cell_type": "markdown",
   "id": "09e96421",
   "metadata": {},
   "source": [
    "The use of Escape Character is used to enter illegal characters into a string using the backslash \\ followed by the character you want to input. Example:"
   ]
  },
  {
   "cell_type": "code",
   "execution_count": 16,
   "id": "f3b51ec5",
   "metadata": {},
   "outputs": [
    {
     "ename": "SyntaxError",
     "evalue": "invalid syntax (693858781.py, line 1)",
     "output_type": "error",
     "traceback": [
      "\u001b[1;36m  Input \u001b[1;32mIn [16]\u001b[1;36m\u001b[0m\n\u001b[1;33m    print('I'am')\u001b[0m\n\u001b[1;37m             ^\u001b[0m\n\u001b[1;31mSyntaxError\u001b[0m\u001b[1;31m:\u001b[0m invalid syntax\n"
     ]
    }
   ],
   "source": [
    "print('I'am')"
   ]
  },
  {
   "cell_type": "code",
   "execution_count": 17,
   "id": "9b148c3f",
   "metadata": {},
   "outputs": [
    {
     "name": "stdout",
     "output_type": "stream",
     "text": [
      "I'am\n"
     ]
    }
   ],
   "source": [
    "print('I\\'am')"
   ]
  },
  {
   "cell_type": "markdown",
   "id": "a62ceb6a",
   "metadata": {},
   "source": [
    "# 4. Boolean Using == because if using = is like input to a variable"
   ]
  },
  {
   "cell_type": "markdown",
   "id": "ec94132a",
   "metadata": {},
   "source": [
    "Bool/Boolean is an instance of an integer (integer or int) which has only two constant values: True and False."
   ]
  },
  {
   "cell_type": "code",
   "execution_count": 18,
   "id": "afeeda07",
   "metadata": {},
   "outputs": [
    {
     "ename": "SyntaxError",
     "evalue": "cannot assign to literal (1235144247.py, line 1)",
     "output_type": "error",
     "traceback": [
      "\u001b[1;36m  Input \u001b[1;32mIn [18]\u001b[1;36m\u001b[0m\n\u001b[1;33m    2=5\u001b[0m\n\u001b[1;37m    ^\u001b[0m\n\u001b[1;31mSyntaxError\u001b[0m\u001b[1;31m:\u001b[0m cannot assign to literal\n"
     ]
    }
   ],
   "source": [
    "2=5"
   ]
  },
  {
   "cell_type": "code",
   "execution_count": 1,
   "id": "4689c97f",
   "metadata": {},
   "outputs": [
    {
     "data": {
      "text/plain": [
       "False"
      ]
     },
     "execution_count": 1,
     "metadata": {},
     "output_type": "execute_result"
    }
   ],
   "source": [
    "2 == 5"
   ]
  },
  {
   "cell_type": "markdown",
   "id": "17ae5f4c",
   "metadata": {},
   "source": [
    "#### Task 1"
   ]
  },
  {
   "cell_type": "code",
   "execution_count": 8,
   "id": "8f373e12",
   "metadata": {},
   "outputs": [],
   "source": [
    "Name = \"Valent Aderiandra\""
   ]
  },
  {
   "cell_type": "code",
   "execution_count": 9,
   "id": "0660f370",
   "metadata": {},
   "outputs": [],
   "source": [
    "Address = \"Sidoarjo,Jawa Timur\""
   ]
  },
  {
   "cell_type": "code",
   "execution_count": 10,
   "id": "11e0c480",
   "metadata": {},
   "outputs": [],
   "source": [
    "Age = 20"
   ]
  },
  {
   "cell_type": "code",
   "execution_count": 11,
   "id": "8c7ac560",
   "metadata": {},
   "outputs": [],
   "source": [
    "Studyprogram = \"Sistem Informasi\""
   ]
  },
  {
   "cell_type": "code",
   "execution_count": 12,
   "id": "da139a53",
   "metadata": {},
   "outputs": [],
   "source": [
    "University = \"Universitas Pembangunan Nasional \\\"Veteran\\\" Jawa Timur (UPN Veteran Jawa Timur)\""
   ]
  },
  {
   "cell_type": "code",
   "execution_count": 16,
   "id": "d61b21f5",
   "metadata": {},
   "outputs": [
    {
     "name": "stdout",
     "output_type": "stream",
     "text": [
      "Name         =  Valent Aderiandra\n",
      "Address      =  Sidoarjo,Jawa Timur\n",
      "Age          =  20\n",
      "StudyProgram =  Sistem Informasi\n",
      "University   =  Universitas Pembangunan Nasional \"Veteran\" Jawa Timur (UPN Veteran Jawa Timur)\n"
     ]
    }
   ],
   "source": [
    "print(\"Name         = \",Name),\n",
    "print(\"Address      = \",Address),\n",
    "print(\"Age          = \",Age),\n",
    "print(\"StudyProgram = \",Studyprogram),\n",
    "print(\"University   = \",University)"
   ]
  }
 ],
 "metadata": {
  "kernelspec": {
   "display_name": "Python 3 (ipykernel)",
   "language": "python",
   "name": "python3"
  },
  "language_info": {
   "codemirror_mode": {
    "name": "ipython",
    "version": 3
   },
   "file_extension": ".py",
   "mimetype": "text/x-python",
   "name": "python",
   "nbconvert_exporter": "python",
   "pygments_lexer": "ipython3",
   "version": "3.9.12"
  }
 },
 "nbformat": 4,
 "nbformat_minor": 5
}
