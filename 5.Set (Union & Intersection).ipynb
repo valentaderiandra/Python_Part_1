{
 "cells": [
  {
   "cell_type": "markdown",
   "id": "8428e644",
   "metadata": {},
   "source": [
    "# Set "
   ]
  },
  {
   "cell_type": "markdown",
   "id": "ca3ddb69",
   "metadata": {},
   "source": [
    "### Set is a collection of unique and unordered items (unordered collection). It is defined with kurawai and the elements are separated by commas. In Set we can do union and Intersection. At the same time, it will automatically delete duplicate data."
   ]
  },
  {
   "cell_type": "code",
   "execution_count": 1,
   "id": "bc43e3f2",
   "metadata": {},
   "outputs": [],
   "source": [
    "a = {1,2,2,3,3,3,4,4,4,4}"
   ]
  },
  {
   "cell_type": "code",
   "execution_count": 2,
   "id": "e5ea353f",
   "metadata": {},
   "outputs": [
    {
     "name": "stdout",
     "output_type": "stream",
     "text": [
      "{1, 2, 3, 4}\n"
     ]
    }
   ],
   "source": [
    "print (a)"
   ]
  },
  {
   "cell_type": "markdown",
   "id": "3b0806fc",
   "metadata": {},
   "source": [
    "Because the set is unordered, we cannot retrieve some of the data/data elements using the slicing process."
   ]
  },
  {
   "cell_type": "code",
   "execution_count": 3,
   "id": "89ada2f6",
   "metadata": {
    "scrolled": true
   },
   "outputs": [
    {
     "ename": "TypeError",
     "evalue": "'set' object is not subscriptable",
     "output_type": "error",
     "traceback": [
      "\u001b[1;31m---------------------------------------------------------------------------\u001b[0m",
      "\u001b[1;31mTypeError\u001b[0m                                 Traceback (most recent call last)",
      "Input \u001b[1;32mIn [3]\u001b[0m, in \u001b[0;36m<cell line: 1>\u001b[1;34m()\u001b[0m\n\u001b[1;32m----> 1\u001b[0m \u001b[38;5;28mprint\u001b[39m (\u001b[43ma\u001b[49m\u001b[43m[\u001b[49m\u001b[38;5;241;43m1\u001b[39;49m\u001b[43m]\u001b[49m)\n",
      "\u001b[1;31mTypeError\u001b[0m: 'set' object is not subscriptable"
     ]
    }
   ],
   "source": [
    "print (a[1])"
   ]
  },
  {
   "cell_type": "markdown",
   "id": "10a46677",
   "metadata": {},
   "source": [
    "# Union"
   ]
  },
  {
   "cell_type": "code",
   "execution_count": 4,
   "id": "111afdc8",
   "metadata": {},
   "outputs": [],
   "source": [
    "a = {1,2,3,4}"
   ]
  },
  {
   "cell_type": "code",
   "execution_count": 5,
   "id": "0132b008",
   "metadata": {},
   "outputs": [],
   "source": [
    "b = {2,3,7}"
   ]
  },
  {
   "cell_type": "code",
   "execution_count": 6,
   "id": "a6c2fea8",
   "metadata": {},
   "outputs": [
    {
     "name": "stdout",
     "output_type": "stream",
     "text": [
      "{1, 2, 3, 4} {2, 3, 7}\n"
     ]
    }
   ],
   "source": [
    "print(a,b)"
   ]
  },
  {
   "cell_type": "code",
   "execution_count": 7,
   "id": "c068e769",
   "metadata": {},
   "outputs": [],
   "source": [
    "c = a.union (b)"
   ]
  },
  {
   "cell_type": "code",
   "execution_count": 8,
   "id": "94272b92",
   "metadata": {},
   "outputs": [
    {
     "name": "stdout",
     "output_type": "stream",
     "text": [
      "{1, 2, 3, 4, 7}\n"
     ]
    }
   ],
   "source": [
    "print (c)"
   ]
  },
  {
   "cell_type": "markdown",
   "id": "7f7695c3",
   "metadata": {},
   "source": [
    "# Intersection"
   ]
  },
  {
   "cell_type": "code",
   "execution_count": 9,
   "id": "0f900e85",
   "metadata": {},
   "outputs": [],
   "source": [
    "a = {1,2,3,4}"
   ]
  },
  {
   "cell_type": "code",
   "execution_count": 10,
   "id": "1726d509",
   "metadata": {},
   "outputs": [],
   "source": [
    "b = {2,3,7}"
   ]
  },
  {
   "cell_type": "code",
   "execution_count": 11,
   "id": "7e285f7b",
   "metadata": {},
   "outputs": [],
   "source": [
    "c = a.intersection (b)"
   ]
  },
  {
   "cell_type": "code",
   "execution_count": 12,
   "id": "8cfe8205",
   "metadata": {},
   "outputs": [
    {
     "name": "stdout",
     "output_type": "stream",
     "text": [
      "{2, 3}\n"
     ]
    }
   ],
   "source": [
    "print (c)"
   ]
  }
 ],
 "metadata": {
  "kernelspec": {
   "display_name": "Python 3 (ipykernel)",
   "language": "python",
   "name": "python3"
  },
  "language_info": {
   "codemirror_mode": {
    "name": "ipython",
    "version": 3
   },
   "file_extension": ".py",
   "mimetype": "text/x-python",
   "name": "python",
   "nbconvert_exporter": "python",
   "pygments_lexer": "ipython3",
   "version": "3.9.12"
  }
 },
 "nbformat": 4,
 "nbformat_minor": 5
}
