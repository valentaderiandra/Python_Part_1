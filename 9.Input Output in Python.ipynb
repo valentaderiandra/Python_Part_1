{
 "cells": [
  {
   "cell_type": "markdown",
   "id": "f7bc92f5",
   "metadata": {},
   "source": [
    "# Variables\n",
    "\n",
    "A variable is a place (in computer memory) to store values of a certain data type.\n",
    "To assign a value to a variable, we use the \"=\" operator, between the variable name and the value we want to store."
   ]
  },
  {
   "cell_type": "code",
   "execution_count": 1,
   "id": "60ed43b9",
   "metadata": {},
   "outputs": [],
   "source": [
    "a = 3\n",
    "\n",
    "#Means we will store the value 3 (type int) to the variable a"
   ]
  },
  {
   "cell_type": "code",
   "execution_count": 2,
   "id": "5c250b80",
   "metadata": {},
   "outputs": [
    {
     "data": {
      "text/plain": [
       "int"
      ]
     },
     "execution_count": 2,
     "metadata": {},
     "output_type": "execute_result"
    }
   ],
   "source": [
    "type(a)"
   ]
  },
  {
   "cell_type": "markdown",
   "id": "6e00fddf",
   "metadata": {},
   "source": [
    "# Print\n",
    "The print() function is a direct output way to the console/screen"
   ]
  },
  {
   "cell_type": "markdown",
   "id": "ddb8ad72",
   "metadata": {},
   "source": [
    "Entering a variable value in a string\n",
    "To enter the value of a variable in a string. Python has several ways"
   ]
  },
  {
   "cell_type": "markdown",
   "id": "5f482590",
   "metadata": {},
   "source": [
    "* Directly concatenate variables in the print() statement."
   ]
  },
  {
   "cell_type": "code",
   "execution_count": 3,
   "id": "1f0ac396",
   "metadata": {},
   "outputs": [
    {
     "name": "stdout",
     "output_type": "stream",
     "text": [
      "The value of variable a is 3\n"
     ]
    }
   ],
   "source": [
    "print(\"The value of variable a is\",a)"
   ]
  },
  {
   "cell_type": "markdown",
   "id": "2fd03e99",
   "metadata": {},
   "source": [
    "* To display text (string), can use the format string mechanism."
   ]
  },
  {
   "cell_type": "code",
   "execution_count": 5,
   "id": "01172d70",
   "metadata": {},
   "outputs": [
    {
     "name": "stdout",
     "output_type": "stream",
     "text": [
      "My Name Valent Adriandra\n"
     ]
    }
   ],
   "source": [
    "print('My Name {}'.format(\"Valent Adriandra\"))"
   ]
  },
  {
   "cell_type": "markdown",
   "id": "ef8afd18",
   "metadata": {},
   "source": [
    "* Using \"%\" operator added with \"Argument Specifiers\"\n",
    "\n",
    "Some examples of commonly used specifer arguments:\n",
    "* %s - String\n",
    "* %d - Integers\n",
    "* %f - Decimal Number"
   ]
  },
  {
   "cell_type": "code",
   "execution_count": 6,
   "id": "313a8834",
   "metadata": {},
   "outputs": [],
   "source": [
    "name = \"Valent Adriandra\""
   ]
  },
  {
   "cell_type": "code",
   "execution_count": 7,
   "id": "420f1a4e",
   "metadata": {},
   "outputs": [],
   "source": [
    "age = 20"
   ]
  },
  {
   "cell_type": "code",
   "execution_count": 8,
   "id": "11cf5906",
   "metadata": {},
   "outputs": [],
   "source": [
    "height = 175"
   ]
  },
  {
   "cell_type": "code",
   "execution_count": 9,
   "id": "9ed74131",
   "metadata": {},
   "outputs": [
    {
     "name": "stdout",
     "output_type": "stream",
     "text": [
      "Age Valent Adriandra is 20 years old and 175 is CM.\n"
     ]
    }
   ],
   "source": [
    "print(\"Age %s is %d years old and %d is CM.\"%(name,age,height))"
   ]
  },
  {
   "cell_type": "code",
   "execution_count": 13,
   "id": "2169ee8c",
   "metadata": {},
   "outputs": [
    {
     "name": "stdout",
     "output_type": "stream",
     "text": [
      "My Name =  Valent Adriandra \n",
      "Age =  20 \n",
      "MyHeight =  175 CM\n"
     ]
    }
   ],
   "source": [
    "print(\"My Name = \",name,\"\\nAge = \",age,\"\\nMyHeight = \",height,\"CM\")"
   ]
  },
  {
   "cell_type": "markdown",
   "id": "f9a49f3b",
   "metadata": {},
   "source": [
    "# input()\n",
    "\n",
    "To allow the user to provide input to your program, use the input() function, where the argument in brackets () is the text you want to display (prompt) and the variable before the equal sign (=) is the result holder of user input:"
   ]
  },
  {
   "cell_type": "markdown",
   "id": "c59497f6",
   "metadata": {},
   "source": [
    "By default, the input from the user is a string"
   ]
  },
  {
   "cell_type": "code",
   "execution_count": 14,
   "id": "e1546fe0",
   "metadata": {},
   "outputs": [
    {
     "name": "stdout",
     "output_type": "stream",
     "text": [
      "Valent Aderiandra\n"
     ]
    },
    {
     "data": {
      "text/plain": [
       "'Valent Aderiandra'"
      ]
     },
     "execution_count": 14,
     "metadata": {},
     "output_type": "execute_result"
    }
   ],
   "source": [
    "input()"
   ]
  },
  {
   "cell_type": "code",
   "execution_count": 15,
   "id": "3a981f6c",
   "metadata": {},
   "outputs": [
    {
     "name": "stdout",
     "output_type": "stream",
     "text": [
      "My Name :Valent Aderiandra\n"
     ]
    }
   ],
   "source": [
    "name = input(\"My Name :\")"
   ]
  },
  {
   "cell_type": "code",
   "execution_count": 16,
   "id": "ef5aeeba",
   "metadata": {},
   "outputs": [
    {
     "name": "stdout",
     "output_type": "stream",
     "text": [
      "Valent Aderiandra\n"
     ]
    }
   ],
   "source": [
    "print(name)"
   ]
  },
  {
   "cell_type": "code",
   "execution_count": 17,
   "id": "12afc7a0",
   "metadata": {},
   "outputs": [
    {
     "data": {
      "text/plain": [
       "str"
      ]
     },
     "execution_count": 17,
     "metadata": {},
     "output_type": "execute_result"
    }
   ],
   "source": [
    "type(name)"
   ]
  },
  {
   "cell_type": "code",
   "execution_count": 18,
   "id": "37712ba9",
   "metadata": {},
   "outputs": [
    {
     "name": "stdout",
     "output_type": "stream",
     "text": [
      "My age :20\n"
     ]
    }
   ],
   "source": [
    "age = input(\"My age :\")"
   ]
  },
  {
   "cell_type": "code",
   "execution_count": 19,
   "id": "23f0d4ff",
   "metadata": {},
   "outputs": [
    {
     "name": "stdout",
     "output_type": "stream",
     "text": [
      "20\n"
     ]
    }
   ],
   "source": [
    "print (age)"
   ]
  },
  {
   "cell_type": "markdown",
   "id": "fe59ef6c",
   "metadata": {},
   "source": [
    "Change the default input string to int"
   ]
  },
  {
   "cell_type": "code",
   "execution_count": 20,
   "id": "d5216e7b",
   "metadata": {},
   "outputs": [
    {
     "name": "stdout",
     "output_type": "stream",
     "text": [
      "20\n"
     ]
    }
   ],
   "source": [
    "Number = int(input())"
   ]
  },
  {
   "cell_type": "code",
   "execution_count": 21,
   "id": "03622fb0",
   "metadata": {},
   "outputs": [
    {
     "data": {
      "text/plain": [
       "int"
      ]
     },
     "execution_count": 21,
     "metadata": {},
     "output_type": "execute_result"
    }
   ],
   "source": [
    "type(Number)"
   ]
  },
  {
   "cell_type": "code",
   "execution_count": 22,
   "id": "b215e59b",
   "metadata": {},
   "outputs": [
    {
     "name": "stdout",
     "output_type": "stream",
     "text": [
      "20\n"
     ]
    }
   ],
   "source": [
    "print (Number)"
   ]
  }
 ],
 "metadata": {
  "kernelspec": {
   "display_name": "Python 3 (ipykernel)",
   "language": "python",
   "name": "python3"
  },
  "language_info": {
   "codemirror_mode": {
    "name": "ipython",
    "version": 3
   },
   "file_extension": ".py",
   "mimetype": "text/x-python",
   "name": "python",
   "nbconvert_exporter": "python",
   "pygments_lexer": "ipython3",
   "version": "3.9.12"
  }
 },
 "nbformat": 4,
 "nbformat_minor": 5
}
