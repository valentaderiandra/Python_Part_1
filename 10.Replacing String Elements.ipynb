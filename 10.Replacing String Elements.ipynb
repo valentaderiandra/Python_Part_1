{
 "cells": [
  {
   "cell_type": "markdown",
   "id": "d39d415c",
   "metadata": {},
   "source": [
    "# Replace"
   ]
  },
  {
   "cell_type": "markdown",
   "id": "26f5ab18",
   "metadata": {},
   "source": [
    "The Replace() method can also return a new string if the substring has been replaced by the entered parameter"
   ]
  },
  {
   "cell_type": "code",
   "execution_count": 2,
   "id": "9d0360b4",
   "metadata": {},
   "outputs": [],
   "source": [
    "a = \"It\\'s raining today\""
   ]
  },
  {
   "cell_type": "code",
   "execution_count": 3,
   "id": "fa5fa491",
   "metadata": {},
   "outputs": [
    {
     "name": "stdout",
     "output_type": "stream",
     "text": [
      "It's sunnying today\n"
     ]
    }
   ],
   "source": [
    "print(a.replace(\"rain\",\"sunny\"))"
   ]
  },
  {
   "cell_type": "markdown",
   "id": "0bedb71a",
   "metadata": {},
   "source": [
    "# Replace() 3 Parameters\n",
    "The third parameter in replace can be filled with the number of substrings you want to replace"
   ]
  },
  {
   "cell_type": "code",
   "execution_count": 4,
   "id": "888f7ff2",
   "metadata": {},
   "outputs": [],
   "source": [
    "a = \"It's raining today and I brought a raincoat\""
   ]
  },
  {
   "cell_type": "code",
   "execution_count": 5,
   "id": "05f6135f",
   "metadata": {},
   "outputs": [
    {
     "name": "stdout",
     "output_type": "stream",
     "text": [
      "It's cloudying today and I brought a cloudycoat\n"
     ]
    }
   ],
   "source": [
    "print(a.replace(\"rain\",\"cloudy\"))"
   ]
  },
  {
   "cell_type": "code",
   "execution_count": 6,
   "id": "2cf455e3",
   "metadata": {},
   "outputs": [],
   "source": [
    "a = \"It's raining today and I brought a raincoat\""
   ]
  },
  {
   "cell_type": "code",
   "execution_count": 7,
   "id": "c935a0d3",
   "metadata": {},
   "outputs": [
    {
     "name": "stdout",
     "output_type": "stream",
     "text": [
      "It's cloudying today and I brought a raincoat\n"
     ]
    }
   ],
   "source": [
    "print(a.replace(\"rain\",\"cloudy\",1))"
   ]
  },
  {
   "cell_type": "markdown",
   "id": "d6b0f68f",
   "metadata": {},
   "source": [
    "# Task 1"
   ]
  },
  {
   "cell_type": "code",
   "execution_count": 8,
   "id": "3c9a1886",
   "metadata": {},
   "outputs": [
    {
     "data": {
      "text/plain": [
       "'Valent has red blood'"
      ]
     },
     "execution_count": 8,
     "metadata": {},
     "output_type": "execute_result"
    }
   ],
   "source": [
    "r1 = \"Valent has red blood\"\n",
    "r1"
   ]
  },
  {
   "cell_type": "code",
   "execution_count": 9,
   "id": "20565d37",
   "metadata": {},
   "outputs": [
    {
     "name": "stdout",
     "output_type": "stream",
     "text": [
      "Valent has blue blood\n"
     ]
    }
   ],
   "source": [
    "print(r1.replace(\"red\", \"blue\"))"
   ]
  },
  {
   "cell_type": "code",
   "execution_count": 10,
   "id": "653e7815",
   "metadata": {},
   "outputs": [
    {
     "data": {
      "text/plain": [
       "'Valent from Java who lives on the island of Java'"
      ]
     },
     "execution_count": 10,
     "metadata": {},
     "output_type": "execute_result"
    }
   ],
   "source": [
    "r2 = \"Valent from Java who lives on the island of Java\"\n",
    "r2"
   ]
  },
  {
   "cell_type": "code",
   "execution_count": 11,
   "id": "7c9f85e6",
   "metadata": {},
   "outputs": [
    {
     "name": "stdout",
     "output_type": "stream",
     "text": [
      "Valent from Betawi who lives on the island of Java\n"
     ]
    }
   ],
   "source": [
    "print(r2.replace(\"Java\", \"Betawi\", 1))"
   ]
  }
 ],
 "metadata": {
  "kernelspec": {
   "display_name": "Python 3 (ipykernel)",
   "language": "python",
   "name": "python3"
  },
  "language_info": {
   "codemirror_mode": {
    "name": "ipython",
    "version": 3
   },
   "file_extension": ".py",
   "mimetype": "text/x-python",
   "name": "python",
   "nbconvert_exporter": "python",
   "pygments_lexer": "ipython3",
   "version": "3.9.12"
  }
 },
 "nbformat": 4,
 "nbformat_minor": 5
}
