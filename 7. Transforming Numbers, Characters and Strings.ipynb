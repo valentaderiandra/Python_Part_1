{
 "cells": [
  {
   "cell_type": "markdown",
   "id": "e299bcff",
   "metadata": {},
   "source": [
    "# Upper"
   ]
  },
  {
   "cell_type": "markdown",
   "id": "b800af1e",
   "metadata": {},
   "source": [
    "* Upper() converts a character or string from lowercase to uppercase.\n",
    "* But if the original letter is uppercase, then the letter does not change"
   ]
  },
  {
   "cell_type": "code",
   "execution_count": 1,
   "id": "688504aa",
   "metadata": {},
   "outputs": [],
   "source": [
    "name = \"valent aderiandra\""
   ]
  },
  {
   "cell_type": "code",
   "execution_count": 2,
   "id": "a7417d1b",
   "metadata": {},
   "outputs": [
    {
     "data": {
      "text/plain": [
       "'VALENT ADERIANDRA'"
      ]
     },
     "execution_count": 2,
     "metadata": {},
     "output_type": "execute_result"
    }
   ],
   "source": [
    "name.upper()"
   ]
  },
  {
   "cell_type": "markdown",
   "id": "60ded585",
   "metadata": {},
   "source": [
    "# Lower"
   ]
  },
  {
   "cell_type": "markdown",
   "id": "28df539d",
   "metadata": {},
   "source": [
    "* Lower() converts a character or string from uppercase to lowercase.\n",
    "* But if the original letter is lowercase, then the letter does not change"
   ]
  },
  {
   "cell_type": "code",
   "execution_count": 3,
   "id": "cc92eae7",
   "metadata": {},
   "outputs": [],
   "source": [
    "name = \"VALENT ADERIANDRA\""
   ]
  },
  {
   "cell_type": "code",
   "execution_count": 4,
   "id": "a0b7bd6c",
   "metadata": {},
   "outputs": [
    {
     "data": {
      "text/plain": [
       "'valent aderiandra'"
      ]
     },
     "execution_count": 4,
     "metadata": {},
     "output_type": "execute_result"
    }
   ],
   "source": [
    "name.lower()"
   ]
  },
  {
   "cell_type": "markdown",
   "id": "6b76ecf5",
   "metadata": {},
   "source": [
    "* Both of these methods, both Upper() and Lower() are python's built-in methods that are used to handle string operations.\n",
    "\n",
    "* If there are non-letter characters (such as symbols or numbers) that do not have capital options, they are not changed."
   ]
  },
  {
   "cell_type": "code",
   "execution_count": 5,
   "id": "84b62449",
   "metadata": {},
   "outputs": [
    {
     "data": {
      "text/plain": [
       "'VALENT ADERIANDRA - 20'"
      ]
     },
     "execution_count": 5,
     "metadata": {},
     "output_type": "execute_result"
    }
   ],
   "source": [
    "name = \"Valent Aderiandra - 20\"\n",
    "name.upper()"
   ]
  },
  {
   "cell_type": "markdown",
   "id": "a9f2b173",
   "metadata": {},
   "source": [
    "# Task 1 "
   ]
  },
  {
   "cell_type": "code",
   "execution_count": 6,
   "id": "79e34a08",
   "metadata": {},
   "outputs": [],
   "source": [
    "name = \"Valent Aderiandra - 20\""
   ]
  },
  {
   "cell_type": "code",
   "execution_count": 7,
   "id": "55bbf5e0",
   "metadata": {},
   "outputs": [
    {
     "data": {
      "text/plain": [
       "'valent aderiandra - 20'"
      ]
     },
     "execution_count": 7,
     "metadata": {},
     "output_type": "execute_result"
    }
   ],
   "source": [
    "name.lower()"
   ]
  },
  {
   "cell_type": "code",
   "execution_count": 8,
   "id": "af5b67ed",
   "metadata": {},
   "outputs": [
    {
     "data": {
      "text/plain": [
       "'VALENT ADERIANDRA - 20'"
      ]
     },
     "execution_count": 8,
     "metadata": {},
     "output_type": "execute_result"
    }
   ],
   "source": [
    "name.upper()"
   ]
  },
  {
   "cell_type": "code",
   "execution_count": 9,
   "id": "5fb34b69",
   "metadata": {},
   "outputs": [
    {
     "name": "stdout",
     "output_type": "stream",
     "text": [
      "Valent Aderiandra - 20\n"
     ]
    }
   ],
   "source": [
    "print(name)"
   ]
  },
  {
   "cell_type": "code",
   "execution_count": 10,
   "id": "6e0dcd5d",
   "metadata": {},
   "outputs": [
    {
     "name": "stdout",
     "output_type": "stream",
     "text": [
      "This is Capitalized Name =  VALENT ADERIANDRA - 20\n",
      "This is Lowercase Name =  valent aderiandra - 20\n"
     ]
    }
   ],
   "source": [
    "print (\"This is Capitalized Name = \",name.upper())\n",
    "print (\"This is Lowercase Name = \",name.lower())"
   ]
  },
  {
   "cell_type": "code",
   "execution_count": 11,
   "id": "28376190",
   "metadata": {},
   "outputs": [
    {
     "name": "stdout",
     "output_type": "stream",
     "text": [
      "This Name is Capitalized =  VALENT ADERIANDRA - 20 \n",
      "This is Lowercase Name =  valent aderiandra - 20\n"
     ]
    }
   ],
   "source": [
    "print (\"This Name is Capitalized = \",name.upper(),\"\\nThis is Lowercase Name = \",name.lower())"
   ]
  },
  {
   "cell_type": "code",
   "execution_count": 12,
   "id": "ff62956c",
   "metadata": {},
   "outputs": [
    {
     "name": "stdout",
     "output_type": "stream",
     "text": [
      "Valent Aderiandra - 20\n"
     ]
    }
   ],
   "source": [
    "print(name)"
   ]
  },
  {
   "cell_type": "code",
   "execution_count": 13,
   "id": "80718f71",
   "metadata": {},
   "outputs": [
    {
     "name": "stdout",
     "output_type": "stream",
     "text": [
      "VALENT ADERIANDRA - 20\n"
     ]
    }
   ],
   "source": [
    "print (name.lower().upper())"
   ]
  },
  {
   "cell_type": "markdown",
   "id": "af5fc03a",
   "metadata": {},
   "source": [
    "# Strip,Lstrip dan Rstrip"
   ]
  },
  {
   "cell_type": "markdown",
   "id": "5b3d996c",
   "metadata": {},
   "source": [
    "# rstrip()\n",
    "rstrip() will remove the whitespace to the right of the string or the end of the string"
   ]
  },
  {
   "cell_type": "code",
   "execution_count": 14,
   "id": "4bdadfcc",
   "metadata": {},
   "outputs": [],
   "source": [
    "Myname = \" Valent Aderiandra Valent \""
   ]
  },
  {
   "cell_type": "code",
   "execution_count": 15,
   "id": "e790a859",
   "metadata": {},
   "outputs": [
    {
     "data": {
      "text/plain": [
       "' Valent Aderiandra Valent '"
      ]
     },
     "execution_count": 15,
     "metadata": {},
     "output_type": "execute_result"
    }
   ],
   "source": [
    "Myname"
   ]
  },
  {
   "cell_type": "code",
   "execution_count": 16,
   "id": "817c1aba",
   "metadata": {},
   "outputs": [
    {
     "data": {
      "text/plain": [
       "' Valent Aderiandra Valent'"
      ]
     },
     "execution_count": 16,
     "metadata": {},
     "output_type": "execute_result"
    }
   ],
   "source": [
    "Myname.rstrip()"
   ]
  },
  {
   "cell_type": "markdown",
   "id": "e71ac4ff",
   "metadata": {},
   "source": [
    "# lstrip()\n",
    "lstrip() is used to remove whitespace to the left or the beginning of the string"
   ]
  },
  {
   "cell_type": "code",
   "execution_count": 17,
   "id": "a75fcb14",
   "metadata": {},
   "outputs": [],
   "source": [
    "Myname = \" Valent Aderiandra Valent \""
   ]
  },
  {
   "cell_type": "code",
   "execution_count": 18,
   "id": "5d816600",
   "metadata": {},
   "outputs": [
    {
     "data": {
      "text/plain": [
       "' Valent Aderiandra Valent '"
      ]
     },
     "execution_count": 18,
     "metadata": {},
     "output_type": "execute_result"
    }
   ],
   "source": [
    "Myname"
   ]
  },
  {
   "cell_type": "code",
   "execution_count": 19,
   "id": "b519d536",
   "metadata": {
    "scrolled": true
   },
   "outputs": [
    {
     "data": {
      "text/plain": [
       "'Valent Aderiandra Valent '"
      ]
     },
     "execution_count": 19,
     "metadata": {},
     "output_type": "execute_result"
    }
   ],
   "source": [
    "Myname.lstrip()"
   ]
  },
  {
   "cell_type": "markdown",
   "id": "bd95aca6",
   "metadata": {},
   "source": [
    "# strip ()\n",
    "strip() will remove whitespace at the beginning or end of the string"
   ]
  },
  {
   "cell_type": "code",
   "execution_count": 20,
   "id": "76c2a89a",
   "metadata": {},
   "outputs": [],
   "source": [
    "Myname = \" Valent Aderiandra Valent \""
   ]
  },
  {
   "cell_type": "code",
   "execution_count": 21,
   "id": "c43a5358",
   "metadata": {},
   "outputs": [
    {
     "data": {
      "text/plain": [
       "' Valent Aderiandra Valent '"
      ]
     },
     "execution_count": 21,
     "metadata": {},
     "output_type": "execute_result"
    }
   ],
   "source": [
    "Myname"
   ]
  },
  {
   "cell_type": "code",
   "execution_count": 22,
   "id": "cbf55174",
   "metadata": {},
   "outputs": [
    {
     "data": {
      "text/plain": [
       "'Valent Aderiandra Valent'"
      ]
     },
     "execution_count": 22,
     "metadata": {},
     "output_type": "execute_result"
    }
   ],
   "source": [
    "Myname.strip()"
   ]
  },
  {
   "cell_type": "markdown",
   "id": "7c578134",
   "metadata": {},
   "source": [
    "#### Strips can also be used to delete 1 word data from the beginning of a sentence"
   ]
  },
  {
   "cell_type": "code",
   "execution_count": 23,
   "id": "bf37d181",
   "metadata": {},
   "outputs": [],
   "source": [
    "Myname = \"Valent Aderiandra \""
   ]
  },
  {
   "cell_type": "code",
   "execution_count": 24,
   "id": "6ee4fe35",
   "metadata": {},
   "outputs": [
    {
     "data": {
      "text/plain": [
       "'lent Aderiandra '"
      ]
     },
     "execution_count": 24,
     "metadata": {},
     "output_type": "execute_result"
    }
   ],
   "source": [
    "Myname.strip(\"Vaent\")"
   ]
  },
  {
   "cell_type": "markdown",
   "id": "cf0ee545",
   "metadata": {},
   "source": [
    "# Startswith()"
   ]
  },
  {
   "cell_type": "markdown",
   "id": "fc93b7ca",
   "metadata": {},
   "source": [
    "The startswith() method will return True if the string starts with the specified prefix we want, otherwise it will return false."
   ]
  },
  {
   "cell_type": "code",
   "execution_count": 25,
   "id": "b63fcd0f",
   "metadata": {},
   "outputs": [],
   "source": [
    "a = \"Data Science\""
   ]
  },
  {
   "cell_type": "code",
   "execution_count": 26,
   "id": "e490ce30",
   "metadata": {},
   "outputs": [
    {
     "data": {
      "text/plain": [
       "False"
      ]
     },
     "execution_count": 26,
     "metadata": {},
     "output_type": "execute_result"
    }
   ],
   "source": [
    "a.startswith(\"Science\")"
   ]
  },
  {
   "cell_type": "code",
   "execution_count": 27,
   "id": "0de08ea9",
   "metadata": {},
   "outputs": [],
   "source": [
    "b = \"Data Science Track\""
   ]
  },
  {
   "cell_type": "code",
   "execution_count": 28,
   "id": "c3f52a29",
   "metadata": {},
   "outputs": [
    {
     "data": {
      "text/plain": [
       "True"
      ]
     },
     "execution_count": 28,
     "metadata": {},
     "output_type": "execute_result"
    }
   ],
   "source": [
    "b.startswith(\"Data\")"
   ]
  },
  {
   "cell_type": "code",
   "execution_count": 29,
   "id": "488d70ea",
   "metadata": {},
   "outputs": [],
   "source": [
    "c = \"Data Science Track\""
   ]
  },
  {
   "cell_type": "code",
   "execution_count": 30,
   "id": "f600d863",
   "metadata": {},
   "outputs": [
    {
     "data": {
      "text/plain": [
       "True"
      ]
     },
     "execution_count": 30,
     "metadata": {},
     "output_type": "execute_result"
    }
   ],
   "source": [
    "c.startswith(\"Data Science\")"
   ]
  },
  {
   "cell_type": "code",
   "execution_count": 31,
   "id": "1561548d",
   "metadata": {},
   "outputs": [],
   "source": [
    "d = \"Data Science Track\""
   ]
  },
  {
   "cell_type": "code",
   "execution_count": 32,
   "id": "373ac852",
   "metadata": {},
   "outputs": [
    {
     "data": {
      "text/plain": [
       "False"
      ]
     },
     "execution_count": 32,
     "metadata": {},
     "output_type": "execute_result"
    }
   ],
   "source": [
    "d.startswith(\"Track\")"
   ]
  },
  {
   "cell_type": "markdown",
   "id": "9cccf3ec",
   "metadata": {},
   "source": [
    "# Endswith"
   ]
  },
  {
   "cell_type": "markdown",
   "id": "8e9819d6",
   "metadata": {},
   "source": [
    "The endswith() method is the opposite of the startswith() method. This method will return True if the string ends with the specified suffix we want, otherwise it will return False."
   ]
  },
  {
   "cell_type": "code",
   "execution_count": 33,
   "id": "e90fabab",
   "metadata": {},
   "outputs": [],
   "source": [
    "a = \"Data Science Track\""
   ]
  },
  {
   "cell_type": "code",
   "execution_count": 34,
   "id": "4ceb8956",
   "metadata": {},
   "outputs": [
    {
     "data": {
      "text/plain": [
       "True"
      ]
     },
     "execution_count": 34,
     "metadata": {},
     "output_type": "execute_result"
    }
   ],
   "source": [
    "a.endswith(\"Track\")"
   ]
  },
  {
   "cell_type": "code",
   "execution_count": 35,
   "id": "8f86acb3",
   "metadata": {},
   "outputs": [],
   "source": [
    "Myname = \"Valent Aderiandra Valent\""
   ]
  },
  {
   "cell_type": "code",
   "execution_count": 36,
   "id": "80a422a5",
   "metadata": {},
   "outputs": [
    {
     "data": {
      "text/plain": [
       "True"
      ]
     },
     "execution_count": 36,
     "metadata": {},
     "output_type": "execute_result"
    }
   ],
   "source": [
    "Myname.startswith(\"Valent\")"
   ]
  },
  {
   "cell_type": "code",
   "execution_count": 37,
   "id": "602334a7",
   "metadata": {},
   "outputs": [
    {
     "data": {
      "text/plain": [
       "True"
      ]
     },
     "execution_count": 37,
     "metadata": {},
     "output_type": "execute_result"
    }
   ],
   "source": [
    "Myname.startswith(\"Valent Aderiandra\")"
   ]
  },
  {
   "cell_type": "code",
   "execution_count": 38,
   "id": "150b387d",
   "metadata": {},
   "outputs": [
    {
     "data": {
      "text/plain": [
       "True"
      ]
     },
     "execution_count": 38,
     "metadata": {},
     "output_type": "execute_result"
    }
   ],
   "source": [
    "Myname.startswith(\"Valent Aderiandra Valent\")"
   ]
  },
  {
   "cell_type": "code",
   "execution_count": 39,
   "id": "5195d0d9",
   "metadata": {},
   "outputs": [],
   "source": [
    "Myname = \"Valent Aderiandra Valent\""
   ]
  },
  {
   "cell_type": "code",
   "execution_count": 40,
   "id": "ce613bf5",
   "metadata": {},
   "outputs": [
    {
     "data": {
      "text/plain": [
       "True"
      ]
     },
     "execution_count": 40,
     "metadata": {},
     "output_type": "execute_result"
    }
   ],
   "source": [
    "Myname.endswith(\"Valent\")"
   ]
  },
  {
   "cell_type": "code",
   "execution_count": 41,
   "id": "0949a956",
   "metadata": {},
   "outputs": [
    {
     "data": {
      "text/plain": [
       "False"
      ]
     },
     "execution_count": 41,
     "metadata": {},
     "output_type": "execute_result"
    }
   ],
   "source": [
    "Myname.endswith(\"Valent Aderiandra\")"
   ]
  },
  {
   "cell_type": "code",
   "execution_count": 42,
   "id": "41725321",
   "metadata": {},
   "outputs": [
    {
     "data": {
      "text/plain": [
       "True"
      ]
     },
     "execution_count": 42,
     "metadata": {},
     "output_type": "execute_result"
    }
   ],
   "source": [
    "Myname.endswith(\"Aderiandra Valent\")"
   ]
  },
  {
   "cell_type": "code",
   "execution_count": 43,
   "id": "4ba99c12",
   "metadata": {},
   "outputs": [
    {
     "data": {
      "text/plain": [
       "True"
      ]
     },
     "execution_count": 43,
     "metadata": {},
     "output_type": "execute_result"
    }
   ],
   "source": [
    "Myname.endswith(\"Valent Aderiandra Valent\")"
   ]
  }
 ],
 "metadata": {
  "kernelspec": {
   "display_name": "Python 3 (ipykernel)",
   "language": "python",
   "name": "python3"
  },
  "language_info": {
   "codemirror_mode": {
    "name": "ipython",
    "version": 3
   },
   "file_extension": ".py",
   "mimetype": "text/x-python",
   "name": "python",
   "nbconvert_exporter": "python",
   "pygments_lexer": "ipython3",
   "version": "3.9.12"
  }
 },
 "nbformat": 4,
 "nbformat_minor": 5
}
